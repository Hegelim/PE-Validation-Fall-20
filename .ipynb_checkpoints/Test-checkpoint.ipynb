{
 "cells": [
  {
   "cell_type": "code",
   "execution_count": 1,
   "metadata": {},
   "outputs": [],
   "source": [
    "# import necessary modules \n",
    "# please run this everytime you open it\n",
    "import pandas as pd \n",
    "import numpy as np \n",
    "import matplotlib as plt \n",
    "import seaborn as sns\n",
    "import re\n",
    "import os"
   ]
  },
  {
   "cell_type": "code",
   "execution_count": 30,
   "metadata": {},
   "outputs": [],
   "source": [
    "# import krippendorff.py\n",
    "%run krippendorff.py\n",
    "%run Validation.ipynb"
   ]
  },
  {
   "cell_type": "code",
   "execution_count": 3,
   "metadata": {},
   "outputs": [
    {
     "data": {
      "text/plain": [
       "array([[ 0.,  1.,  0., ...,  0.,  0.,  0.],\n",
       "       [nan, nan, nan, ..., nan, nan, nan],\n",
       "       [nan, nan, nan, ..., nan, nan, nan],\n",
       "       ...,\n",
       "       [nan, nan, nan, ..., nan, nan, nan],\n",
       "       [nan, nan, nan, ..., nan, nan, nan],\n",
       "       [nan, nan, nan, ...,  0.,  1.,  0.]])"
      ]
     },
     "execution_count": 3,
     "metadata": {},
     "output_type": "execute_result"
    }
   ],
   "source": [
    "to_reliability(\"Specialists data\", \"Covid_Evidencev1-2020-10-04T1836-DataHunt.csv\", \"cl\", \"T1.Q11\")"
   ]
  },
  {
   "cell_type": "code",
   "execution_count": 4,
   "metadata": {},
   "outputs": [
    {
     "data": {
      "text/plain": [
       "0.072473"
      ]
     },
     "execution_count": 4,
     "metadata": {},
     "output_type": "execute_result"
    }
   ],
   "source": [
    "compute_alpha(\"Specialists data\",\n",
    "              \"Covid_Evidencev1-2020-10-04T1836-DataHunt.csv\", \"cl\",\n",
    "              \"T1.Q11\",\n",
    "              \"ordinal\", 6)"
   ]
  },
  {
   "cell_type": "code",
   "execution_count": 5,
   "metadata": {},
   "outputs": [
    {
     "data": {
      "text/plain": [
       "11"
      ]
     },
     "execution_count": 5,
     "metadata": {},
     "output_type": "execute_result"
    }
   ],
   "source": [
    "decompose_question(\"T1.Q11\")"
   ]
  },
  {
   "cell_type": "code",
   "execution_count": 6,
   "metadata": {},
   "outputs": [
    {
     "data": {
      "text/plain": [
       "'mc'"
      ]
     },
     "execution_count": 6,
     "metadata": {},
     "output_type": "execute_result"
    }
   ],
   "source": [
    "get_question_type(\"Argument relevance\", \"T1.Q3\")"
   ]
  },
  {
   "cell_type": "markdown",
   "metadata": {},
   "source": [
    "**get_measurement**"
   ]
  },
  {
   "cell_type": "code",
   "execution_count": 3,
   "metadata": {},
   "outputs": [
    {
     "name": "stdout",
     "output_type": "stream",
     "text": [
      "Covid_ArgumentRelevancev1.2-2020-10-04T1802-DataHuntByCase.csv\n",
      "T1.Q1 mc nominal\n",
      "Covid_Evidencev1-2020-10-04T1836-DataHuntByCase.csv\n",
      "T1.Q1 cl \n",
      "T1.Q2 cl \n",
      "T1.Q3 tx \n",
      "T1.Q7 tx \n",
      "T1.Q8 mc ordinal\n",
      "T1.Q9 mc nominal\n",
      "T1.Q12 mc ordinal\n",
      "T1.Q13 mc ordinal\n",
      "T1.Q14 mc ordinal\n",
      "T1.Q4 mc ordinal\n",
      "T1.Q10 mc ordinal\n",
      "T1.Q11 mc ordinal\n",
      "T1.Q5 mc ordinal\n",
      "T1.Q6 mc nominal\n",
      "Covid_Holisiticv1.2-2020-10-04T1803-DataHuntByCase.csv\n",
      "T1.Q1 mc nominal\n",
      "T1.Q3 cl \n",
      "T1.Q5 mc nominal\n",
      "T1.Q6 cl \n",
      "T1.Q7 mc ordinal\n",
      "T1.Q8 mc ordinal\n",
      "T1.Q9 cl \n",
      "T1.Q10 cl \n",
      "T1.Q11 mc ordinal\n",
      "T1.Q12 mc ordinal\n",
      "T1.Q13 mc ordinal\n",
      "T1.Q14 mc nominal\n",
      "T1.Q15 cl \n",
      "T1.Q17 mc ordinal\n",
      "T1.Q18 mc ordinal\n",
      "T1.Q16 tx \n",
      "Covid_Languagev1.1-2020-10-04T1837-DataHuntByCase.csv\n",
      "T1.Q12 mc ordinal\n",
      "T1.Q14 mc ordinal\n",
      "T1.Q15 mc ordinal\n",
      "T1.Q1 cl \n",
      "T1.Q11 mc ordinal\n",
      "T1.Q3 mc ordinal\n",
      "T1.Q13 mc ordinal\n",
      "T1.Q5 mc ordinal\n",
      "T1.Q6 cl \n",
      "T1.Q7 tx \n",
      "T1.Q2 mc ordinal\n",
      "T1.Q9 mc ordinal\n",
      "T1.Q10 mc ordinal\n",
      "Covid_Probabilityv1-2020-10-04T1837-DataHuntByCase.csv\n",
      "T1.Q1 mc ordinal\n",
      "T1.Q5 mc ordinal\n",
      "T1.Q6 mc nominal\n",
      "T1.Q11 mc ordinal\n",
      "T1.Q12 cl \n",
      "T1.Q13 mc ordinal\n",
      "T1.Q14 mc ordinal\n",
      "T1.Q2 mc ordinal\n",
      "T1.Q7 mc ordinal\n",
      "T1.Q10 mc ordinal\n",
      "Covid_Reasoningv1-2020-10-04T1803-DataHuntByCase.csv\n",
      "T1.Q1 cl \n",
      "T1.Q2 cl \n",
      "T1.Q7 mc ordinal\n",
      "T1.Q8 tx \n",
      "T1.Q9 mc ordinal\n",
      "T1.Q10 mc ordinal\n",
      "T1.Q6 cl \n",
      "T1.Q3 cl \n",
      "T1.Q4 mc nominal\n",
      "T1.Q5 mc nominal\n",
      "Covid_SourceRelevancev1-2020-10-04T1838-DataHuntByCase.csv\n",
      "T1.Q1 cl \n",
      "T1.Q2 mc ordinal\n",
      "T1.Q3 mc nominal\n",
      "T1.Q5 cl \n",
      "T1.Q6 cl \n",
      "T1.Q7 cl \n",
      "T1.Q8 mc nominal\n",
      "T1.Q9 mc ordinal\n",
      "T1.Q10 mc ordinal\n",
      "T1.Q4 cl \n"
     ]
    }
   ],
   "source": [
    "for file in os.listdir(\"Specialists DataHuntByCase\"):\n",
    "    name = os.path.join(\"Specialists DataHuntByCase\", file)\n",
    "    df = pd.read_csv(name)\n",
    "    topic = get_topic(df)\n",
    "    print(file)\n",
    "    for question in df[\"question_label\"].unique():\n",
    "        cur = get_question_type(topic, question)\n",
    "        if cur == 'mc':\n",
    "            measurement = get_measurement(topic, question)\n",
    "        else:\n",
    "            measurement = ''\n",
    "        print(question, cur, measurement)"
   ]
  },
  {
   "cell_type": "code",
   "execution_count": 42,
   "metadata": {},
   "outputs": [
    {
     "name": "stdout",
     "output_type": "stream",
     "text": [
      "\n",
      "Covid_ArgumentRelevancev1.2-2020-10-04T1802-DataHuntByCase.csv\n",
      "T1.Q1 mc nominal 0.16058256099867607\n",
      "\n",
      "Covid_Evidencev1-2020-10-04T1836-DataHuntByCase.csv\n",
      "T1.Q1 cl 0.31692368763308265\n",
      "T1.Q2 cl 0.17096749587475923\n",
      "T1.Q8 mc ordinal 0.14191752542031244\n",
      "T1.Q9 mc nominal 0.053032440327221764\n",
      "T1.Q12 mc ordinal 0.1534287949740165\n",
      "T1.Q13 mc ordinal 0.025005709963492606\n",
      "T1.Q14 mc ordinal -0.01338508092939561\n",
      "T1.Q4 mc ordinal 0.13539407234342216\n",
      "T1.Q10 mc ordinal 0.13299611068894113\n",
      "T1.Q11 mc ordinal 0.01751555367203661\n",
      "T1.Q5 mc ordinal 0.42758458348799944\n",
      "T1.Q6 mc nominal 0.0\n",
      "\n",
      "Covid_Holisiticv1.2-2020-10-04T1803-DataHuntByCase.csv\n",
      "T1.Q1 mc There has to be more than one value in the domain.\n",
      "T1.Q3 cl nan\n",
      "T1.Q5 mc nominal nan\n",
      "T1.Q6 cl nan\n",
      "T1.Q7 mc ordinal nan\n",
      "T1.Q8 mc ordinal nan\n",
      "T1.Q9 cl There has to be more than one value in the domain.\n",
      "T1.Q10 cl nan\n",
      "T1.Q11 mc ordinal nan\n",
      "T1.Q12 mc ordinal nan\n",
      "T1.Q13 mc ordinal nan\n",
      "T1.Q14 mc nominal nan\n",
      "T1.Q15 cl nan\n",
      "T1.Q17 mc ordinal nan\n",
      "T1.Q18 mc ordinal nan\n",
      "\n",
      "Covid_Languagev1.1-2020-10-04T1837-DataHuntByCase.csv\n",
      "T1.Q12 mc ordinal 0.1058840065599892\n",
      "T1.Q14 mc ordinal -0.057422507738884576\n",
      "T1.Q15 mc ordinal -0.046909107627247426\n",
      "T1.Q1 cl 0.28308799151985686\n",
      "T1.Q11 mc ordinal 0.016253777872968223\n",
      "T1.Q3 mc ordinal 0.09962879922739143\n",
      "T1.Q13 mc ordinal 0.0\n",
      "T1.Q5 mc ordinal 0.07647574297067383\n",
      "T1.Q6 cl 0.2774791666666666\n",
      "T1.Q2 mc ordinal 0.4292040531021921\n",
      "T1.Q9 mc ordinal 0.7219199247615209\n",
      "T1.Q10 mc ordinal -0.04344610833795537\n",
      "\n",
      "Covid_Probabilityv1-2020-10-04T1837-DataHuntByCase.csv\n",
      "T1.Q1 mc ordinal 0.3508078330984169\n",
      "T1.Q5 mc ordinal 0.25517202284429663\n",
      "T1.Q6 mc nominal 0.3658929232070186\n",
      "T1.Q11 mc ordinal 0.12004548744151033\n",
      "T1.Q12 cl 0.02020631067961154\n",
      "T1.Q13 mc ordinal -0.08426841553873765\n",
      "T1.Q14 mc ordinal -0.07929409960216782\n",
      "T1.Q2 mc ordinal 0.314689710203656\n",
      "T1.Q7 mc ordinal 0.1569231107141289\n",
      "T1.Q10 mc ordinal -0.132049594031161\n",
      "\n",
      "Covid_Reasoningv1-2020-10-04T1803-DataHuntByCase.csv\n",
      "T1.Q1 cl 0.26546557962056394\n",
      "T1.Q2 cl 0.3070780399274047\n",
      "T1.Q7 mc ordinal 0.3744047619047619\n",
      "T1.Q9 mc ordinal 0.009646276845576729\n",
      "T1.Q10 mc ordinal -0.07228844380583843\n",
      "T1.Q6 cl 0.2744899049246876\n",
      "T1.Q3 cl 0.6448\n",
      "T1.Q4 mc There has to be more than one value in the domain.\n",
      "T1.Q5 mc There has to be more than one value in the domain.\n",
      "\n",
      "Covid_SourceRelevancev1-2020-10-04T1838-DataHuntByCase.csv\n",
      "T1.Q1 cl 0.1317318280768125\n",
      "T1.Q2 mc ordinal 0.5051077041300582\n",
      "T1.Q3 mc nominal 0.43074663704381677\n",
      "T1.Q5 cl 0.47111847887138547\n",
      "T1.Q6 cl 0.551632614143232\n",
      "T1.Q7 cl 0.35743618247190523\n",
      "T1.Q8 mc nominal 0.08728742440311998\n",
      "T1.Q9 mc ordinal -0.04209813971676901\n",
      "T1.Q10 mc ordinal -0.03547881011892251\n",
      "T1.Q4 cl 0.5636881938922755\n"
     ]
    }
   ],
   "source": [
    "repo = \"Specialists DataHuntByCase\"\n",
    "for file in os.listdir(repo):\n",
    "    print()\n",
    "    print(file)\n",
    "    name = os.path.join(repo, file)\n",
    "    df = pd.read_csv(name)\n",
    "    topic = get_topic(df)\n",
    "    questions = df[\"question_label\"].unique()\n",
    "    for question in questions:\n",
    "        # \"mc\"/\"cl\"/\"tx\"\n",
    "        question_type = get_question_type(topic, question)\n",
    "        if question_type == \"mc\":\n",
    "            # \"categorical\"/\"ordinal\"\n",
    "            try:\n",
    "                reliability_array = to_reliability(repo, \n",
    "                                                   file,\n",
    "                                                   question_type, question)\n",
    "        \n",
    "                measurement = get_measurement(topic, question)\n",
    "                value = alpha(reliability_data=reliability_array, level_of_measurement=measurement)\n",
    "                print(question, question_type, measurement, value)\n",
    "            except Exception as e: \n",
    "                print(question, question_type, e)\n",
    "        elif question_type == \"cl\":\n",
    "            reliability_array = to_reliability(repo, \n",
    "                                               file,\n",
    "                                               question_type, question)\n",
    "            try:\n",
    "                value = alpha(reliability_data=reliability_array, level_of_measurement=\"nominal\")\n",
    "                print(question, question_type, value)\n",
    "            except Exception as e: \n",
    "                print(question, question_type, e)"
   ]
  },
  {
   "cell_type": "markdown",
   "metadata": {},
   "source": [
    "**Why nan?**"
   ]
  },
  {
   "cell_type": "code",
   "execution_count": 43,
   "metadata": {},
   "outputs": [
    {
     "data": {
      "text/plain": [
       "array([[2, nan, nan, nan],\n",
       "       [nan, 4, 2, 5]], dtype=object)"
      ]
     },
     "metadata": {},
     "output_type": "display_data"
    },
    {
     "name": "stdout",
     "output_type": "stream",
     "text": [
      "nan\n"
     ]
    }
   ],
   "source": [
    "source = pd.read_csv(\"Specialists DataHuntByCase/Covid_Holisiticv1.2-2020-10-04T1803-DataHuntByCase.csv\")\n",
    "source = source[source[\"question_label\"] == \"T1.Q5\"]\n",
    "cols = [\"quiz_task_uuid\", \"contributor_uuid\", \"question_label\", \"answer_label\"]\n",
    "source = source.reindex(columns=cols)\n",
    "source = pd.pivot_table(data=source, values=\"answer_label\", index=\"contributor_uuid\",\n",
    "                        columns=\"quiz_task_uuid\", aggfunc=select)\n",
    "array = source.to_numpy()\n",
    "array = to_int(array)\n",
    "display(array)\n",
    "try:\n",
    "    print(np.round(alpha(reliability_data=array, level_of_measurement=\"nominal\"), 5))\n",
    "except Exception as e: \n",
    "    print(e)"
   ]
  },
  {
   "cell_type": "markdown",
   "metadata": {},
   "source": [
    "**More than one value in the domain?**"
   ]
  },
  {
   "cell_type": "code",
   "execution_count": 3,
   "metadata": {},
   "outputs": [
    {
     "data": {
      "text/plain": [
       "array([[1, nan, nan, nan],\n",
       "       [nan, 1, 1, 1]], dtype=object)"
      ]
     },
     "metadata": {},
     "output_type": "display_data"
    },
    {
     "name": "stdout",
     "output_type": "stream",
     "text": [
      "There has to be more than one value in the domain.\n"
     ]
    }
   ],
   "source": [
    "source = pd.read_csv(\"Specialists data/Covid_Holisiticv1.2-2020-10-04T1803-DataHunt.csv\")\n",
    "source = source[source[\"question_label\"] == \"T1.Q1\"]\n",
    "cols = [\"quiz_task_uuid\", \"contributor_uuid\", \"question_label\", \"answer_label\"]\n",
    "source = source.reindex(columns=cols)\n",
    "source = pd.pivot_table(data=source, values=\"answer_label\", index=\"contributor_uuid\",\n",
    "                        columns=\"quiz_task_uuid\", aggfunc=select)\n",
    "array = source.to_numpy()\n",
    "array = to_int(array)\n",
    "display(array)\n",
    "try:\n",
    "    print(np.round(alpha(reliability_data=array, level_of_measurement=\"nominal\"), 5))\n",
    "except Exception as e: \n",
    "    print(e)"
   ]
  },
  {
   "cell_type": "markdown",
   "metadata": {},
   "source": [
    "**Why negative?**"
   ]
  },
  {
   "cell_type": "code",
   "execution_count": 41,
   "metadata": {},
   "outputs": [
    {
     "name": "stdout",
     "output_type": "stream",
     "text": [
      "-0.00846\n"
     ]
    }
   ],
   "source": [
    "source = pd.read_csv(\"Specialists DataHuntByCase/Covid_Evidencev1-2020-10-04T1836-DataHuntByCase.csv\")\n",
    "source = source[source[\"question_label\"] == \"T1.Q14\"]\n",
    "cols = [\"quiz_task_uuid\", \"contributor_uuid\", \"question_label\", \"answer_label\"]\n",
    "source = source.reindex(columns=cols)\n",
    "source = pd.pivot_table(data=source, values=\"answer_label\", index=\"contributor_uuid\",\n",
    "                        columns=\"quiz_task_uuid\", aggfunc=select)\n",
    "array = source.to_numpy()\n",
    "array = to_int(array)\n",
    "try:\n",
    "    print(np.round(alpha(reliability_data=array, level_of_measurement=\"nominal\"), 5))\n",
    "except Exception as e: \n",
    "    print(e)\n",
    "# df = pd.DataFrame(array)\n",
    "# df.to_excel('example2.xlsx')"
   ]
  },
  {
   "cell_type": "markdown",
   "metadata": {},
   "source": [
    "https://www.ncbi.nlm.nih.gov/pmc/articles/PMC4974794/#:~:text=Krippendorff's%20alpha%20in%20contrast%20is,negative%20values%20indicate%20inverse%20agreement.<br>\n",
    "Krippendorff’s alpha in contrast is based on the observed disagreement corrected for disagreement expected by chance. This leads to a range of −1 to 1 for both measures, where 1 indicates perfect agreement, 0 indicates no agreement beyond chance and negative values indicate inverse agreement."
   ]
  }
 ],
 "metadata": {
  "kernelspec": {
   "display_name": "Python 3",
   "language": "python",
   "name": "python3"
  },
  "language_info": {
   "codemirror_mode": {
    "name": "ipython",
    "version": 3
   },
   "file_extension": ".py",
   "mimetype": "text/x-python",
   "name": "python",
   "nbconvert_exporter": "python",
   "pygments_lexer": "ipython3",
   "version": "3.7.3"
  }
 },
 "nbformat": 4,
 "nbformat_minor": 2
}
