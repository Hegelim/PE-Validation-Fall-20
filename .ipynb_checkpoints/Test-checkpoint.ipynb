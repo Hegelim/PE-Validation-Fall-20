{
 "cells": [
  {
   "cell_type": "code",
   "execution_count": 1,
   "metadata": {},
   "outputs": [],
   "source": [
    "# import necessary modules \n",
    "# please run this everytime you open it\n",
    "import pandas as pd \n",
    "import numpy as np \n",
    "import matplotlib as plt \n",
    "import seaborn as sns\n",
    "import re\n",
    "import os"
   ]
  },
  {
   "cell_type": "code",
   "execution_count": 2,
   "metadata": {},
   "outputs": [],
   "source": [
    "# import krippendorff.py\n",
    "%run krippendorff.py\n",
    "%run Validation.ipynb"
   ]
  },
  {
   "cell_type": "code",
   "execution_count": 3,
   "metadata": {},
   "outputs": [
    {
     "data": {
      "text/plain": [
       "array([[ 0.,  1.,  0., ...,  0.,  0.,  0.],\n",
       "       [nan, nan, nan, ..., nan, nan, nan],\n",
       "       [nan, nan, nan, ..., nan, nan, nan],\n",
       "       ...,\n",
       "       [nan, nan, nan, ..., nan, nan, nan],\n",
       "       [nan, nan, nan, ..., nan, nan, nan],\n",
       "       [nan, nan, nan, ...,  0.,  1.,  0.]])"
      ]
     },
     "execution_count": 3,
     "metadata": {},
     "output_type": "execute_result"
    }
   ],
   "source": [
    "to_reliability(\"Specialists data\", \"Covid_Evidencev1-2020-10-04T1836-DataHunt.csv\", \"cl\", \"T1.Q11\")"
   ]
  },
  {
   "cell_type": "code",
   "execution_count": 4,
   "metadata": {},
   "outputs": [
    {
     "data": {
      "text/plain": [
       "0.072473"
      ]
     },
     "execution_count": 4,
     "metadata": {},
     "output_type": "execute_result"
    }
   ],
   "source": [
    "compute_alpha(\"Specialists data\",\n",
    "              \"Covid_Evidencev1-2020-10-04T1836-DataHunt.csv\", \"cl\",\n",
    "              \"T1.Q11\",\n",
    "              \"ordinal\", 6)"
   ]
  },
  {
   "cell_type": "code",
   "execution_count": 5,
   "metadata": {},
   "outputs": [
    {
     "data": {
      "text/plain": [
       "11"
      ]
     },
     "execution_count": 5,
     "metadata": {},
     "output_type": "execute_result"
    }
   ],
   "source": [
    "decompose_question(\"T1.Q11\")"
   ]
  },
  {
   "cell_type": "code",
   "execution_count": 6,
   "metadata": {},
   "outputs": [
    {
     "data": {
      "text/plain": [
       "'mc'"
      ]
     },
     "execution_count": 6,
     "metadata": {},
     "output_type": "execute_result"
    }
   ],
   "source": [
    "get_question_type(\"Argument relevance\", \"T1.Q3\")"
   ]
  },
  {
   "cell_type": "markdown",
   "metadata": {},
   "source": [
    "**get_measurement**"
   ]
  },
  {
   "cell_type": "code",
   "execution_count": 7,
   "metadata": {},
   "outputs": [
    {
     "name": "stdout",
     "output_type": "stream",
     "text": [
      "Covid_ArgumentRelevancev1.2-2020-10-04T1802-DataHunt.csv\n",
      "T1.Q1 mc categorical\n",
      "Covid_Evidencev1-2020-10-04T1836-DataHunt.csv\n",
      "T1.Q1 cl \n",
      "T1.Q2 cl \n",
      "T1.Q3 tx \n",
      "T1.Q7 tx \n",
      "T1.Q8 mc ordinal\n",
      "T1.Q9 mc categorical\n",
      "T1.Q12 mc ordinal\n",
      "T1.Q13 mc ordinal\n",
      "T1.Q14 mc ordinal\n",
      "T1.Q4 mc ordinal\n",
      "T1.Q10 mc ordinal\n",
      "T1.Q11 mc ordinal\n",
      "T1.Q5 mc ordinal\n",
      "T1.Q6 mc categorical\n",
      "Covid_Holisiticv1.2-2020-10-04T1803-DataHunt.csv\n",
      "T1.Q1 mc categorical\n",
      "T1.Q3 cl \n",
      "T1.Q5 mc categorical\n",
      "T1.Q6 cl \n",
      "T1.Q7 mc ordinal\n",
      "T1.Q8 mc ordinal\n",
      "T1.Q9 cl \n",
      "T1.Q10 cl \n",
      "T1.Q11 mc ordinal\n",
      "T1.Q12 mc ordinal\n",
      "T1.Q13 mc ordinal\n",
      "T1.Q14 mc categorical\n",
      "T1.Q15 cl \n",
      "T1.Q17 mc ordinal\n",
      "T1.Q18 mc ordinal\n",
      "T1.Q16 tx \n",
      "Covid_Languagev1.1-2020-10-04T1837-DataHunt.csv\n",
      "T1.Q12 mc ordinal\n",
      "T1.Q14 mc ordinal\n",
      "T1.Q15 mc ordinal\n",
      "T1.Q1 cl \n",
      "T1.Q11 mc ordinal\n",
      "T1.Q3 mc ordinal\n",
      "T1.Q13 mc ordinal\n",
      "T1.Q5 mc ordinal\n",
      "T1.Q6 cl \n",
      "T1.Q7 tx \n",
      "T1.Q2 mc ordinal\n",
      "T1.Q9 mc ordinal\n",
      "T1.Q10 mc ordinal\n",
      "Covid_Probabilityv1-2020-10-04T1837-DataHunt.csv\n",
      "T1.Q1 mc ordinal\n",
      "T1.Q5 mc ordinal\n",
      "T1.Q6 mc categorical\n",
      "T1.Q11 mc ordinal\n",
      "T1.Q12 cl \n",
      "T1.Q13 mc ordinal\n",
      "T1.Q14 mc ordinal\n",
      "T1.Q2 mc ordinal\n",
      "T1.Q7 mc ordinal\n",
      "T1.Q10 mc ordinal\n",
      "Covid_Reasoningv1-2020-10-04T1803-DataHunt.csv\n",
      "T1.Q1 cl \n",
      "T1.Q2 cl \n",
      "T1.Q7 mc ordinal\n",
      "T1.Q8 tx \n",
      "T1.Q9 mc ordinal\n",
      "T1.Q10 mc ordinal\n",
      "T1.Q6 cl \n",
      "T1.Q3 cl \n",
      "T1.Q4 mc categorical\n",
      "T1.Q5 mc categorical\n",
      "Covid_SourceRelevancev1-2020-10-04T1838-DataHunt.csv\n",
      "T1.Q1 cl \n",
      "T1.Q2 mc ordinal\n",
      "T1.Q3 mc categorical\n",
      "T1.Q5 cl \n",
      "T1.Q6 cl \n",
      "T1.Q7 cl \n",
      "T1.Q8 mc categorical\n",
      "T1.Q9 mc ordinal\n",
      "T1.Q10 mc ordinal\n",
      "T1.Q4 cl \n"
     ]
    }
   ],
   "source": [
    "for file in os.listdir(\"Specialists data\"):\n",
    "    name = os.path.join(\"Specialists data\", file)\n",
    "    df = pd.read_csv(name)\n",
    "    topic = get_topic(df)\n",
    "    print(file)\n",
    "    for question in df[\"question_label\"].unique():\n",
    "        cur = get_question_type(topic, question)\n",
    "        if cur == 'mc':\n",
    "            measurement = get_measurement(topic, question)\n",
    "        else:\n",
    "            measurement = ''\n",
    "        print(question, cur, measurement)"
   ]
  },
  {
   "cell_type": "code",
   "execution_count": 33,
   "metadata": {},
   "outputs": [
    {
     "name": "stdout",
     "output_type": "stream",
     "text": [
      "\n",
      "Covid_ArgumentRelevancev1.2-2020-10-04T1802-DataHunt.csv\n",
      "T1.Q1 mc 0.26865552903739065\n",
      "\n",
      "Covid_Evidencev1-2020-10-04T1836-DataHunt.csv\n",
      "T1.Q1 cl 0.302802702031877\n"
     ]
    },
    {
     "name": "stderr",
     "output_type": "stream",
     "text": [
      "C:\\Users\\thefi\\Anaconda3\\lib\\site-packages\\ipykernel_launcher.py:9: DeprecationWarning: The truth value of an empty array is ambiguous. Returning False, but in future this will result in an error. Use `array.size > 0` to check that an array is not empty.\n",
      "  if __name__ == '__main__':\n"
     ]
    },
    {
     "name": "stdout",
     "output_type": "stream",
     "text": [
      "T1.Q2 cl 0.13010568324524285\n",
      "T1.Q8 mc 0.14191752542031244\n",
      "T1.Q9 mc 0.2917096633618791\n",
      "T1.Q12 mc 0.2129080208377916\n",
      "T1.Q13 mc 0.08733542608940825\n",
      "T1.Q14 mc 0.058689609257064235\n",
      "T1.Q4 mc 0.13539407234342216\n",
      "T1.Q10 mc 0.13299611068894113\n",
      "T1.Q11 mc 0.01751555367203661\n",
      "T1.Q5 mc 0.16681664159688137\n",
      "T1.Q6 mc 0.0\n",
      "\n",
      "Covid_Holisiticv1.2-2020-10-04T1803-DataHunt.csv\n",
      "T1.Q1 mc There has to be more than one value in the domain.\n",
      "T1.Q3 cl nan\n",
      "T1.Q5 mc nan\n",
      "T1.Q6 cl nan\n",
      "T1.Q7 mc nan\n",
      "T1.Q8 mc nan\n",
      "T1.Q9 cl There has to be more than one value in the domain.\n",
      "T1.Q10 cl nan\n",
      "T1.Q11 mc nan\n",
      "T1.Q12 mc nan\n",
      "T1.Q13 mc nan\n",
      "T1.Q14 mc nan\n",
      "T1.Q15 cl nan\n",
      "T1.Q17 mc nan\n",
      "T1.Q18 mc nan\n",
      "\n",
      "Covid_Languagev1.1-2020-10-04T1837-DataHunt.csv\n",
      "T1.Q12 mc 0.661538232064774\n",
      "T1.Q14 mc 0.08973522455475325\n",
      "T1.Q15 mc 0.056751754679111865\n",
      "T1.Q1 cl 0.23861117427130862\n",
      "T1.Q11 mc 0.016253777872968223\n",
      "T1.Q3 mc 0.1423539695512578\n",
      "T1.Q13 mc 0.0\n",
      "T1.Q5 mc 0.07647574297067383\n",
      "T1.Q6 cl 0.20662067215953595\n",
      "T1.Q2 mc 0.4292040531021921\n",
      "T1.Q9 mc 0.7219199247615209\n",
      "T1.Q10 mc -0.04344610833795537\n",
      "\n",
      "Covid_Probabilityv1-2020-10-04T1837-DataHunt.csv\n",
      "T1.Q1 mc 0.34742535848318634\n",
      "T1.Q5 mc 0.19678734657105534\n",
      "T1.Q6 mc 0.6598166510040084\n",
      "T1.Q11 mc 0.11491361841596837\n",
      "T1.Q12 cl 0.012713088702687059\n",
      "T1.Q13 mc -0.08426841553873765\n",
      "T1.Q14 mc -0.07929409960216782\n",
      "T1.Q2 mc 0.314689710203656\n",
      "T1.Q7 mc 0.14187857412336913\n",
      "T1.Q10 mc 0.39827628396174775\n",
      "\n",
      "Covid_Reasoningv1-2020-10-04T1803-DataHunt.csv\n",
      "T1.Q1 cl 0.26546557962056394\n",
      "T1.Q2 cl 0.2878291996931731\n",
      "T1.Q7 mc 0.3744047619047619\n",
      "T1.Q9 mc 0.009646276845576729\n",
      "T1.Q10 mc -0.07228844380583843\n",
      "T1.Q6 cl 0.23154486099410276\n",
      "T1.Q3 cl 0.6291441788743254\n",
      "T1.Q4 mc There has to be more than one value in the domain.\n",
      "T1.Q5 mc There has to be more than one value in the domain.\n",
      "\n",
      "Covid_SourceRelevancev1-2020-10-04T1838-DataHunt.csv\n",
      "T1.Q1 cl 0.1317318280768125\n",
      "T1.Q2 mc 0.5051077041300582\n",
      "T1.Q3 mc 0.43074663704381677\n",
      "T1.Q5 cl 0.4154576226390452\n",
      "T1.Q6 cl 0.44597522267510115\n",
      "T1.Q7 cl 0.31015625831445737\n",
      "T1.Q8 mc 0.08728742440311998\n",
      "T1.Q9 mc -0.04209813971676901\n",
      "T1.Q10 mc -0.03547881011892251\n",
      "T1.Q4 cl 0.5666031963024445\n"
     ]
    }
   ],
   "source": [
    "for file in os.listdir(\"Specialists data\"):\n",
    "    print()\n",
    "    print(file)\n",
    "    name = os.path.join(\"Specialists data\", file)\n",
    "    df = pd.read_csv(name)\n",
    "    topic = get_topic(df)\n",
    "    for question in df[\"question_label\"].unique():\n",
    "        # \"mc\"/\"cl\"/\"tx\"\n",
    "        question_type = get_question_type(topic, question)\n",
    "        if question_type == \"mc\":\n",
    "            # \"categorical\"/\"ordinal\"\n",
    "            try:\n",
    "                reliability_array = to_reliability(\"Specialists data\", \n",
    "                                                   file,\n",
    "                                                   \"mc\", question)\n",
    "            except:\n",
    "                reliability_array = to_reliability(\"Specialists data\", \n",
    "                                                   file,\n",
    "                                                   \"cl\", question)\n",
    "            measurement = get_measurement(topic, question)\n",
    "            try:\n",
    "                value = alpha(reliability_data=reliability_array, level_of_measurement=measurement)\n",
    "                print(question, question_type, value)\n",
    "            except Exception as e: \n",
    "                print(question, question_type, e)\n",
    "        elif question_type == \"cl\":\n",
    "            reliability_array = to_reliability(\"Specialists data\", \n",
    "                                                file,\n",
    "                                                \"cl\", question)\n",
    "            try:\n",
    "                value = alpha(reliability_data=reliability_array, level_of_measurement=\"nominal\")\n",
    "                print(question, question_type, value)\n",
    "            except Exception as e: \n",
    "                print(question, question_type, e)"
   ]
  },
  {
   "cell_type": "code",
   "execution_count": 3,
   "metadata": {},
   "outputs": [
    {
     "data": {
      "text/plain": [
       "array([[1, nan, nan, nan],\n",
       "       [nan, 1, 1, 1]], dtype=object)"
      ]
     },
     "metadata": {},
     "output_type": "display_data"
    },
    {
     "name": "stdout",
     "output_type": "stream",
     "text": [
      "There has to be more than one value in the domain.\n"
     ]
    }
   ],
   "source": [
    "source = pd.read_csv(\"Specialists data/Covid_Holisiticv1.2-2020-10-04T1803-DataHunt.csv\")\n",
    "source = source[source[\"question_label\"] == \"T1.Q1\"]\n",
    "cols = [\"quiz_task_uuid\", \"contributor_uuid\", \"question_label\", \"answer_label\"]\n",
    "source = source.reindex(columns=cols)\n",
    "source = pd.pivot_table(data=source, values=\"answer_label\", index=\"contributor_uuid\",\n",
    "                        columns=\"quiz_task_uuid\", aggfunc=select)\n",
    "array = source.to_numpy()\n",
    "array = to_int(array)\n",
    "display(array)\n",
    "try:\n",
    "    print(np.round(alpha(reliability_data=array, level_of_measurement=\"nominal\"), 5))\n",
    "except Exception as e: \n",
    "    print(e)"
   ]
  },
  {
   "cell_type": "code",
   "execution_count": 28,
   "metadata": {},
   "outputs": [
    {
     "data": {
      "text/plain": [
       "array([[2, nan, nan, nan],\n",
       "       [nan, 4, 2, 5]], dtype=object)"
      ]
     },
     "metadata": {},
     "output_type": "display_data"
    },
    {
     "name": "stdout",
     "output_type": "stream",
     "text": [
      "nan\n"
     ]
    }
   ],
   "source": [
    "source = pd.read_csv(\"Specialists data/Covid_Holisiticv1.2-2020-10-04T1803-DataHunt.csv\")\n",
    "source = source[source[\"question_label\"] == \"T1.Q5\"]\n",
    "cols = [\"quiz_task_uuid\", \"contributor_uuid\", \"question_label\", \"answer_label\"]\n",
    "source = source.reindex(columns=cols)\n",
    "source = pd.pivot_table(data=source, values=\"answer_label\", index=\"contributor_uuid\",\n",
    "                        columns=\"quiz_task_uuid\", aggfunc=select)\n",
    "array = source.to_numpy()\n",
    "array = to_int(array)\n",
    "display(array)\n",
    "try:\n",
    "    print(np.round(alpha(reliability_data=array, level_of_measurement=\"nominal\"), 5))\n",
    "except Exception as e: \n",
    "    print(e)"
   ]
  },
  {
   "cell_type": "code",
   "execution_count": 29,
   "metadata": {},
   "outputs": [
    {
     "data": {
      "text/plain": [
       "array([[2, nan, nan, nan],\n",
       "       [nan, 4, 2, 5]], dtype=object)"
      ]
     },
     "metadata": {},
     "output_type": "display_data"
    },
    {
     "name": "stdout",
     "output_type": "stream",
     "text": [
      "nan\n"
     ]
    }
   ],
   "source": [
    "source = pd.read_csv(\"Specialists data/Covid_Holisiticv1.2-2020-10-04T1803-DataHunt.csv\")\n",
    "source = source[source[\"question_label\"] == \"T1.Q7\"]\n",
    "cols = [\"quiz_task_uuid\", \"contributor_uuid\", \"question_label\", \"answer_label\"]\n",
    "source = source.reindex(columns=cols)\n",
    "source = pd.pivot_table(data=source, values=\"answer_label\", index=\"contributor_uuid\",\n",
    "                        columns=\"quiz_task_uuid\", aggfunc=select)\n",
    "array = source.to_numpy()\n",
    "array = to_int(array)\n",
    "display(array)\n",
    "try:\n",
    "    print(np.round(alpha(reliability_data=array, level_of_measurement=\"nominal\"), 5))\n",
    "except Exception as e: \n",
    "    print(e)"
   ]
  },
  {
   "cell_type": "code",
   "execution_count": 30,
   "metadata": {},
   "outputs": [
    {
     "data": {
      "text/plain": [
       "array([[5, nan, nan, nan],\n",
       "       [nan, 1, 4, 1]], dtype=object)"
      ]
     },
     "metadata": {},
     "output_type": "display_data"
    },
    {
     "name": "stdout",
     "output_type": "stream",
     "text": [
      "nan\n"
     ]
    }
   ],
   "source": [
    "source = pd.read_csv(\"Specialists data/Covid_Holisiticv1.2-2020-10-04T1803-DataHunt.csv\")\n",
    "source = source[source[\"question_label\"] == \"T1.Q8\"]\n",
    "cols = [\"quiz_task_uuid\", \"contributor_uuid\", \"question_label\", \"answer_label\"]\n",
    "source = source.reindex(columns=cols)\n",
    "source = pd.pivot_table(data=source, values=\"answer_label\", index=\"contributor_uuid\",\n",
    "                        columns=\"quiz_task_uuid\", aggfunc=select)\n",
    "array = source.to_numpy()\n",
    "array = to_int(array)\n",
    "display(array)\n",
    "try:\n",
    "    print(np.round(alpha(reliability_data=array, level_of_measurement=\"nominal\"), 5))\n",
    "except Exception as e: \n",
    "    print(e)"
   ]
  }
 ],
 "metadata": {
  "kernelspec": {
   "display_name": "Python 3",
   "language": "python",
   "name": "python3"
  },
  "language_info": {
   "codemirror_mode": {
    "name": "ipython",
    "version": 3
   },
   "file_extension": ".py",
   "mimetype": "text/x-python",
   "name": "python",
   "nbconvert_exporter": "python",
   "pygments_lexer": "ipython3",
   "version": "3.7.3"
  }
 },
 "nbformat": 4,
 "nbformat_minor": 2
}
