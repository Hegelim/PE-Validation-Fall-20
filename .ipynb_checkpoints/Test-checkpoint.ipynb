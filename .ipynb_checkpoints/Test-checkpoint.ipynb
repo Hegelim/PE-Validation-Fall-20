{
 "cells": [
  {
   "cell_type": "code",
   "execution_count": 1,
   "metadata": {},
   "outputs": [],
   "source": [
    "# import necessary modules \n",
    "# please run this everytime you open it\n",
    "import pandas as pd \n",
    "import numpy as np \n",
    "import matplotlib as plt \n",
    "import seaborn as sns\n",
    "import re\n",
    "import os"
   ]
  },
  {
   "cell_type": "code",
   "execution_count": 29,
   "metadata": {},
   "outputs": [],
   "source": [
    "# import krippendorff.py\n",
    "%run krippendorff.py\n",
    "%run Validation.ipynb"
   ]
  },
  {
   "cell_type": "code",
   "execution_count": 3,
   "metadata": {},
   "outputs": [
    {
     "data": {
      "text/plain": [
       "array([[ 0.,  1.,  0., ...,  0.,  0.,  0.],\n",
       "       [nan, nan, nan, ..., nan, nan, nan],\n",
       "       [nan, nan, nan, ..., nan, nan, nan],\n",
       "       ...,\n",
       "       [nan, nan, nan, ..., nan, nan, nan],\n",
       "       [nan, nan, nan, ..., nan, nan, nan],\n",
       "       [nan, nan, nan, ...,  0.,  1.,  0.]])"
      ]
     },
     "execution_count": 3,
     "metadata": {},
     "output_type": "execute_result"
    }
   ],
   "source": [
    "to_reliability(\"Specialists data\", \"Covid_Evidencev1-2020-10-04T1836-DataHunt.csv\", \"cl\", \"T1.Q11\")"
   ]
  },
  {
   "cell_type": "code",
   "execution_count": 4,
   "metadata": {},
   "outputs": [
    {
     "data": {
      "text/plain": [
       "0.072473"
      ]
     },
     "execution_count": 4,
     "metadata": {},
     "output_type": "execute_result"
    }
   ],
   "source": [
    "compute_alpha(\"Specialists data\",\n",
    "              \"Covid_Evidencev1-2020-10-04T1836-DataHunt.csv\", \"cl\",\n",
    "              \"T1.Q11\",\n",
    "              \"ordinal\", 6)"
   ]
  },
  {
   "cell_type": "code",
   "execution_count": 5,
   "metadata": {},
   "outputs": [
    {
     "data": {
      "text/plain": [
       "11"
      ]
     },
     "execution_count": 5,
     "metadata": {},
     "output_type": "execute_result"
    }
   ],
   "source": [
    "decompose_question(\"T1.Q11\")"
   ]
  },
  {
   "cell_type": "code",
   "execution_count": 6,
   "metadata": {},
   "outputs": [
    {
     "data": {
      "text/plain": [
       "'mc'"
      ]
     },
     "execution_count": 6,
     "metadata": {},
     "output_type": "execute_result"
    }
   ],
   "source": [
    "get_question_type(\"Argument relevance\", \"T1.Q3\")"
   ]
  },
  {
   "cell_type": "markdown",
   "metadata": {},
   "source": [
    "**get_measurement**"
   ]
  },
  {
   "cell_type": "code",
   "execution_count": 7,
   "metadata": {},
   "outputs": [
    {
     "name": "stdout",
     "output_type": "stream",
     "text": [
      "Covid_ArgumentRelevancev1.2-2020-10-04T1802-DataHunt.csv\n",
      "T1.Q1 mc categorical\n",
      "Covid_Evidencev1-2020-10-04T1836-DataHunt.csv\n",
      "T1.Q1 cl \n",
      "T1.Q2 cl \n",
      "T1.Q3 tx \n",
      "T1.Q7 tx \n",
      "T1.Q8 mc ordinal\n",
      "T1.Q9 mc categorical\n",
      "T1.Q12 mc ordinal\n",
      "T1.Q13 mc ordinal\n",
      "T1.Q14 mc ordinal\n",
      "T1.Q4 mc ordinal\n",
      "T1.Q10 mc ordinal\n",
      "T1.Q11 mc ordinal\n",
      "T1.Q5 mc ordinal\n",
      "T1.Q6 mc categorical\n",
      "Covid_Holisiticv1.2-2020-10-04T1803-DataHunt.csv\n",
      "T1.Q1 mc categorical\n",
      "T1.Q3 cl \n",
      "T1.Q5 mc categorical\n",
      "T1.Q6 cl \n",
      "T1.Q7 mc ordinal\n",
      "T1.Q8 mc ordinal\n",
      "T1.Q9 cl \n",
      "T1.Q10 cl \n",
      "T1.Q11 mc ordinal\n",
      "T1.Q12 mc ordinal\n",
      "T1.Q13 mc ordinal\n",
      "T1.Q14 mc categorical\n",
      "T1.Q15 cl \n",
      "T1.Q17 mc ordinal\n",
      "T1.Q18 mc ordinal\n",
      "T1.Q16 tx \n",
      "Covid_Languagev1.1-2020-10-04T1837-DataHunt.csv\n",
      "T1.Q12 mc ordinal\n",
      "T1.Q14 mc ordinal\n",
      "T1.Q15 mc ordinal\n",
      "T1.Q1 cl \n",
      "T1.Q11 mc ordinal\n",
      "T1.Q3 mc ordinal\n",
      "T1.Q13 mc ordinal\n",
      "T1.Q5 mc ordinal\n",
      "T1.Q6 cl \n",
      "T1.Q7 tx \n",
      "T1.Q2 mc ordinal\n",
      "T1.Q9 mc ordinal\n",
      "T1.Q10 mc ordinal\n",
      "Covid_Probabilityv1-2020-10-04T1837-DataHunt.csv\n",
      "T1.Q1 mc ordinal\n",
      "T1.Q5 mc ordinal\n",
      "T1.Q6 mc categorical\n",
      "T1.Q11 mc ordinal\n",
      "T1.Q12 cl \n",
      "T1.Q13 mc ordinal\n",
      "T1.Q14 mc ordinal\n",
      "T1.Q2 mc ordinal\n",
      "T1.Q7 mc ordinal\n",
      "T1.Q10 mc ordinal\n",
      "Covid_Reasoningv1-2020-10-04T1803-DataHunt.csv\n",
      "T1.Q1 cl \n",
      "T1.Q2 cl \n",
      "T1.Q7 mc ordinal\n",
      "T1.Q8 tx \n",
      "T1.Q9 mc ordinal\n",
      "T1.Q10 mc ordinal\n",
      "T1.Q6 cl \n",
      "T1.Q3 cl \n",
      "T1.Q4 mc categorical\n",
      "T1.Q5 mc categorical\n",
      "Covid_SourceRelevancev1-2020-10-04T1838-DataHunt.csv\n",
      "T1.Q1 cl \n",
      "T1.Q2 mc ordinal\n",
      "T1.Q3 mc categorical\n",
      "T1.Q5 cl \n",
      "T1.Q6 cl \n",
      "T1.Q7 cl \n",
      "T1.Q8 mc categorical\n",
      "T1.Q9 mc ordinal\n",
      "T1.Q10 mc ordinal\n",
      "T1.Q4 cl \n"
     ]
    }
   ],
   "source": [
    "for file in os.listdir(\"Specialists data\"):\n",
    "    name = os.path.join(\"Specialists data\", file)\n",
    "    df = pd.read_csv(name)\n",
    "    topic = get_topic(df)\n",
    "    print(file)\n",
    "    for question in df[\"question_label\"].unique():\n",
    "        cur = get_question_type(topic, question)\n",
    "        if cur == 'mc':\n",
    "            measurement = get_measurement(topic, question)\n",
    "        else:\n",
    "            measurement = ''\n",
    "        print(question, cur, measurement)"
   ]
  },
  {
   "cell_type": "code",
   "execution_count": 38,
   "metadata": {},
   "outputs": [
    {
     "name": "stdout",
     "output_type": "stream",
     "text": [
      "\n",
      "Covid_ArgumentRelevancev1.2-2020-10-04T1802-DataHunt.csv\n",
      "T1.Q1 mc 0.302802702031877\n",
      "\n",
      "Covid_Evidencev1-2020-10-04T1836-DataHunt.csv\n",
      "T1.Q1 cl 0.302802702031877\n",
      "T1.Q2 cl 0.302802702031877\n",
      "T1.Q8 mc 0.14191752542031244\n"
     ]
    },
    {
     "name": "stderr",
     "output_type": "stream",
     "text": [
      "C:\\Users\\thefi\\Anaconda3\\lib\\site-packages\\ipykernel_launcher.py:9: DeprecationWarning: The truth value of an empty array is ambiguous. Returning False, but in future this will result in an error. Use `array.size > 0` to check that an array is not empty.\n",
      "  if __name__ == '__main__':\n"
     ]
    },
    {
     "name": "stdout",
     "output_type": "stream",
     "text": [
      "T1.Q9 mc 0.2917096633618791\n",
      "T1.Q12 mc 0.2129080208377916\n",
      "T1.Q13 mc 0.08733542608940825\n",
      "T1.Q14 mc 0.058689609257064235\n",
      "T1.Q4 mc 0.13539407234342216\n",
      "T1.Q10 mc 0.13299611068894113\n",
      "T1.Q11 mc 0.01751555367203661\n",
      "T1.Q5 mc 0.16681664159688137\n",
      "T1.Q6 mc 0.0\n",
      "\n",
      "Covid_Holisiticv1.2-2020-10-04T1803-DataHunt.csv\n",
      "T1.Q1 mc 0.302802702031877\n",
      "T1.Q3 cl 0.302802702031877\n",
      "T1.Q5 mc 0.15387977080703108\n",
      "T1.Q6 cl 0.15387977080703108\n",
      "T1.Q7 mc There has to be more than one value in the domain.\n",
      "T1.Q8 mc 0.14191752542031244\n",
      "T1.Q9 cl 0.06481026278704771\n",
      "T1.Q10 cl 0.06481026278704771\n",
      "T1.Q11 mc 0.01751555367203661\n",
      "T1.Q12 mc 0.2129080208377916\n",
      "T1.Q13 mc 0.08733542608940825\n",
      "T1.Q14 mc 0.058689609257064235\n",
      "T1.Q15 cl 0.058689609257064235\n",
      "T1.Q17 mc There has to be more than one value in the domain.\n",
      "T1.Q18 mc There has to be more than one value in the domain.\n",
      "\n",
      "Covid_Languagev1.1-2020-10-04T1837-DataHunt.csv\n",
      "T1.Q12 mc 0.2129080208377916\n",
      "T1.Q14 mc 0.058689609257064235\n",
      "T1.Q15 mc There has to be more than one value in the domain.\n",
      "T1.Q1 cl There has to be more than one value in the domain.\n",
      "T1.Q11 mc 0.01751555367203661\n",
      "T1.Q3 mc There has to be more than one value in the domain.\n",
      "T1.Q13 mc 0.08733542608940825\n",
      "T1.Q5 mc 0.16681664159688137\n",
      "T1.Q6 cl 0.15387977080703108\n",
      "T1.Q2 mc 0.1726278248557126\n",
      "T1.Q9 mc 0.2502052230473757\n",
      "T1.Q10 mc 0.13299611068894113\n",
      "\n",
      "Covid_Probabilityv1-2020-10-04T1837-DataHunt.csv\n",
      "T1.Q1 mc 0.2942052500936576\n",
      "T1.Q5 mc 0.16681664159688137\n",
      "T1.Q6 mc 0.0\n",
      "T1.Q11 mc 0.01751555367203661\n",
      "T1.Q12 cl -0.005491575379783065\n",
      "T1.Q13 mc 0.08733542608940825\n",
      "T1.Q14 mc 0.058689609257064235\n",
      "T1.Q2 mc 0.1726278248557126\n",
      "T1.Q7 mc There has to be more than one value in the domain.\n",
      "T1.Q10 mc 0.13299611068894113\n",
      "\n",
      "Covid_Reasoningv1-2020-10-04T1803-DataHunt.csv\n",
      "T1.Q1 cl 0.07343410764132607\n",
      "T1.Q2 cl 0.07343410764132607\n",
      "T1.Q7 mc There has to be more than one value in the domain.\n",
      "T1.Q9 mc 0.2502052230473757\n",
      "T1.Q10 mc 0.13299611068894113\n",
      "T1.Q6 cl 0.07343410764132607\n",
      "T1.Q3 cl 0.07343410764132607\n",
      "T1.Q4 mc 0.046956975772765364\n",
      "T1.Q5 mc 0.15387977080703108\n",
      "\n",
      "Covid_SourceRelevancev1-2020-10-04T1838-DataHunt.csv\n",
      "T1.Q1 cl 0.15387977080703108\n",
      "T1.Q2 mc 0.1726278248557126\n",
      "T1.Q3 mc There has to be more than one value in the domain.\n",
      "T1.Q5 cl There has to be more than one value in the domain.\n",
      "T1.Q6 cl There has to be more than one value in the domain.\n",
      "T1.Q7 cl There has to be more than one value in the domain.\n",
      "T1.Q8 mc 0.06481026278704771\n",
      "T1.Q9 mc 0.2502052230473757\n",
      "T1.Q10 mc 0.13299611068894113\n",
      "T1.Q4 cl 0.07343410764132607\n"
     ]
    }
   ],
   "source": [
    "for file in os.listdir(\"Specialists data\"):\n",
    "    print()\n",
    "    print(file)\n",
    "    name = os.path.join(\"Specialists data\", file)\n",
    "    df = pd.read_csv(name)\n",
    "    topic = get_topic(df)\n",
    "    for question in df[\"question_label\"].unique():\n",
    "        # \"mc\"/\"cl\"/\"tx\"\n",
    "        question_type = get_question_type(topic, question)\n",
    "        if question_type == \"mc\":\n",
    "            # \"categorical\"/\"ordinal\"\n",
    "            try:\n",
    "                reliability_array = to_reliability(\"Specialists data\", \n",
    "                                                   \"Covid_Evidencev1-2020-10-04T1836-DataHunt.csv\",\n",
    "                                                    \"mc\", question)\n",
    "            except:\n",
    "                try:\n",
    "                    reliability_array = to_reliability(\"Specialists data\", \n",
    "                                                       \"Covid_Evidencev1-2020-10-04T1836-DataHunt.csv\",\n",
    "                                                        \"cl\", question)\n",
    "                except:\n",
    "                    print(question, question_type, \"Error\")\n",
    "                    continue\n",
    "            measurement = get_measurement(topic, question)\n",
    "            try:\n",
    "                value = alpha(reliability_data=reliability_array, level_of_measurement=measurement)\n",
    "                print(question, question_type, value)\n",
    "            except Exception as e: \n",
    "                print(question, question_type, e)\n",
    "        elif question_type == \"cl\":\n",
    "            try:\n",
    "                value = alpha(reliability_data=reliability_array, level_of_measurement=\"nominal\")\n",
    "                print(question, question_type, value)\n",
    "            except Exception as e: \n",
    "                print(question, question_type, e)"
   ]
  },
  {
   "cell_type": "code",
   "execution_count": null,
   "metadata": {},
   "outputs": [],
   "source": []
  }
 ],
 "metadata": {
  "kernelspec": {
   "display_name": "Python 3",
   "language": "python",
   "name": "python3"
  },
  "language_info": {
   "codemirror_mode": {
    "name": "ipython",
    "version": 3
   },
   "file_extension": ".py",
   "mimetype": "text/x-python",
   "name": "python",
   "nbconvert_exporter": "python",
   "pygments_lexer": "ipython3",
   "version": "3.7.3"
  }
 },
 "nbformat": 4,
 "nbformat_minor": 2
}
