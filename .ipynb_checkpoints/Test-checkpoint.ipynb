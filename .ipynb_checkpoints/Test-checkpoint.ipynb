{
 "cells": [
  {
   "cell_type": "code",
   "execution_count": 1,
   "metadata": {},
   "outputs": [],
   "source": [
    "# import necessary modules \n",
    "# please run this everytime you open it\n",
    "import pandas as pd \n",
    "import numpy as np \n",
    "import matplotlib as plt \n",
    "import re\n",
    "import os\n",
    "import warnings\n",
    "warnings.filterwarnings('ignore')\n",
    "# import krippendorff.py\n",
    "%run krippendorff.py\n",
    "%run Validation.ipynb"
   ]
  },
  {
   "cell_type": "code",
   "execution_count": 2,
   "metadata": {},
   "outputs": [
    {
     "data": {
      "text/plain": [
       "array([[ 0.,  1.,  0., ...,  0.,  0.,  0.],\n",
       "       [nan, nan, nan, ..., nan, nan, nan],\n",
       "       [nan, nan, nan, ..., nan, nan, nan],\n",
       "       ...,\n",
       "       [nan, nan, nan, ..., nan, nan, nan],\n",
       "       [nan, nan, nan, ..., nan, nan, nan],\n",
       "       [nan, nan, nan, ...,  0.,  1.,  0.]])"
      ]
     },
     "execution_count": 2,
     "metadata": {},
     "output_type": "execute_result"
    }
   ],
   "source": [
    "to_reliability(\"Specialists data\", \"Covid_Evidencev1-2020-10-04T1836-DataHunt.csv\", \"cl\", \"T1.Q11\")"
   ]
  },
  {
   "cell_type": "code",
   "execution_count": 3,
   "metadata": {},
   "outputs": [
    {
     "data": {
      "text/plain": [
       "0.072473"
      ]
     },
     "execution_count": 3,
     "metadata": {},
     "output_type": "execute_result"
    }
   ],
   "source": [
    "compute_alpha(\"Specialists data\",\n",
    "              \"Covid_Evidencev1-2020-10-04T1836-DataHunt.csv\", \"cl\",\n",
    "              \"T1.Q11\",\n",
    "              \"ordinal\", 6)"
   ]
  },
  {
   "cell_type": "code",
   "execution_count": 4,
   "metadata": {},
   "outputs": [
    {
     "data": {
      "text/plain": [
       "11"
      ]
     },
     "execution_count": 4,
     "metadata": {},
     "output_type": "execute_result"
    }
   ],
   "source": [
    "decompose_question(\"T1.Q11\")"
   ]
  },
  {
   "cell_type": "code",
   "execution_count": 5,
   "metadata": {},
   "outputs": [
    {
     "data": {
      "text/plain": [
       "'mc'"
      ]
     },
     "execution_count": 5,
     "metadata": {},
     "output_type": "execute_result"
    }
   ],
   "source": [
    "get_question_type(\"Argument relevance\", \"T1.Q3\")"
   ]
  },
  {
   "cell_type": "markdown",
   "metadata": {},
   "source": [
    "**get_measurement**"
   ]
  },
  {
   "cell_type": "code",
   "execution_count": 6,
   "metadata": {},
   "outputs": [
    {
     "name": "stdout",
     "output_type": "stream",
     "text": [
      "This dataframe is empty\n",
      "Covid2.1_Language-2020-12-02T0750-DataHuntByCase.csv\n",
      "Covid_ArgumentRelevancev1.2-2020-12-02T0749-DataHuntByCase.csv\n",
      "T1.Q1 mc nominal\n",
      "Covid_Evidencev1-2020-12-02T0749-DataHuntByCase.csv\n",
      "T1.Q1 cl \n",
      "T1.Q2 cl \n",
      "T1.Q3 tx \n",
      "T1.Q7 tx \n",
      "T1.Q8 mc ordinal\n",
      "T1.Q9 mc nominal\n",
      "T1.Q12 mc ordinal\n",
      "T1.Q13 mc ordinal\n",
      "T1.Q14 mc ordinal\n",
      "T1.Q4 mc ordinal\n",
      "T1.Q10 mc ordinal\n",
      "T1.Q11 mc ordinal\n",
      "T1.Q5 mc ordinal\n",
      "T1.Q6 mc nominal\n",
      "Covid_Holisiticv1.2-2020-12-02T0749-DataHuntByCase.csv\n",
      "T1.Q1 mc nominal\n",
      "T1.Q3 cl \n",
      "T1.Q5 mc nominal\n",
      "T1.Q6 cl \n",
      "T1.Q7 mc ordinal\n",
      "T1.Q8 mc ordinal\n",
      "T1.Q9 cl \n",
      "T1.Q10 cl \n",
      "T1.Q11 mc ordinal\n",
      "T1.Q12 mc ordinal\n",
      "T1.Q13 mc ordinal\n",
      "T1.Q14 mc nominal\n",
      "T1.Q15 cl \n",
      "T1.Q17 mc ordinal\n",
      "T1.Q18 mc ordinal\n",
      "T1.Q4 tx \n",
      "T1.Q2 tx \n",
      "T1.Q16 tx \n",
      "Covid_Probabilityv1-2020-12-02T0750-DataHuntByCase.csv\n",
      "T1.Q1 mc ordinal\n",
      "T1.Q5 mc ordinal\n",
      "T1.Q6 mc nominal\n",
      "T1.Q11 mc ordinal\n",
      "T1.Q12 cl \n",
      "T1.Q13 mc ordinal\n",
      "T1.Q14 mc ordinal\n",
      "T1.Q2 mc ordinal\n",
      "T1.Q7 mc ordinal\n",
      "T1.Q10 mc ordinal\n",
      "Covid_Reasoningv1-2020-12-02T0750-DataHuntByCase.csv\n",
      "T1.Q1 cl \n",
      "T1.Q2 cl \n",
      "T1.Q7 mc ordinal\n",
      "T1.Q8 tx \n",
      "T1.Q9 mc ordinal\n",
      "T1.Q10 mc ordinal\n",
      "T1.Q6 cl \n",
      "T1.Q3 cl \n",
      "T1.Q4 mc nominal\n",
      "T1.Q5 mc nominal\n",
      "Covid_SourceRelevancev1-2020-12-02T0751-DataHuntByCase.csv\n",
      "T1.Q1 cl \n",
      "T1.Q2 mc ordinal\n",
      "T1.Q3 mc nominal\n",
      "T1.Q5 cl \n",
      "T1.Q6 cl \n",
      "T1.Q7 cl \n",
      "T1.Q8 mc nominal\n",
      "T1.Q9 mc ordinal\n",
      "T1.Q10 mc ordinal\n",
      "T1.Q4 cl \n"
     ]
    }
   ],
   "source": [
    "get_question_types(\"Specialists DataHuntByCase\")"
   ]
  },
  {
   "cell_type": "code",
   "execution_count": 7,
   "metadata": {},
   "outputs": [
    {
     "name": "stdout",
     "output_type": "stream",
     "text": [
      "\n",
      "Covid2.1_Language-2020-12-02T0750-DataHuntByCase.csv\n",
      "This dataframe is empty\n",
      "\n",
      "Covid_ArgumentRelevancev1.2-2020-12-02T0749-DataHuntByCase.csv\n",
      "T1.Q1 mc nominal alpha: 0.1875967900886949 # of pairable values: 141\n",
      "\n",
      "Covid_Evidencev1-2020-12-02T0749-DataHuntByCase.csv\n",
      "T1.Q1 cl T1.Q1.A1 alpha: 0.21019130178515877 # of pairable values: 379\n",
      "T1.Q1 cl T1.Q1.A2 alpha: 0.008926765298146289 # of pairable values: 379\n",
      "T1.Q1 cl T1.Q1.A3 alpha: 0.16752661089110943 # of pairable values: 379\n",
      "T1.Q2 cl T1.Q2.A8 alpha: 0.0005221386800333683 # of pairable values: 137\n",
      "T1.Q2 cl T1.Q2.A3 alpha: 0.07905511811023624 # of pairable values: 137\n",
      "T1.Q2 cl T1.Q2.A9 alpha: 0.08756912943515816 # of pairable values: 137\n",
      "T1.Q2 cl T1.Q2.A6 alpha: 0.03340440653873489 # of pairable values: 137\n",
      "T1.Q2 cl T1.Q2.A1 alpha: 0.06689722736983739 # of pairable values: 137\n",
      "T1.Q2 cl T1.Q2.A2 alpha: -0.025345181134655004 # of pairable values: 137\n",
      "T1.Q2 cl T1.Q2.A4 alpha: 0.040877628313961134 # of pairable values: 137\n",
      "T1.Q2 cl T1.Q2.A7 alpha: 0.06798245614035092 # of pairable values: 137\n",
      "T1.Q2 cl T1.Q2.A5 alpha: 0.06681165724227933 # of pairable values: 137\n",
      "T1.Q8 mc ordinal alpha: 0.13905618090209415 # of pairable values: 139\n",
      "T1.Q9 mc nominal alpha: 0.05326450481175238 # of pairable values: 379\n",
      "T1.Q12 mc ordinal alpha: 0.15015094028171772 # of pairable values: 379\n",
      "T1.Q13 mc ordinal alpha: 0.033136711920013884 # of pairable values: 379\n",
      "T1.Q14 mc ordinal alpha: -0.0016592887729971473 # of pairable values: 379\n",
      "T1.Q4 mc ordinal alpha: 0.13992877091981604 # of pairable values: 74\n",
      "T1.Q10 mc ordinal alpha: 0.12271907006150373 # of pairable values: 137\n",
      "T1.Q11 mc ordinal alpha: 0.027971037149836064 # of pairable values: 137\n",
      "T1.Q5 mc ordinal alpha: 0.42758458348799944 # of pairable values: 31\n",
      "T1.Q6 mc nominal alpha: 0.0 # of pairable values: 17\n",
      "\n",
      "Covid_Holisiticv1.2-2020-12-02T0749-DataHuntByCase.csv\n",
      "T1.Q1 mc nominal alpha: -0.008620689655172376 # of pairable values: 10\n",
      "T1.Q3 cl T1.Q3.A2 alpha: 1.0 # of pairable values: 10\n",
      "T1.Q3 cl T1.Q3.A1 alpha: 0.0 # of pairable values: 10\n",
      "T1.Q3 cl T1.Q3.A12 There has to be more than one value in the domain.\n",
      "T1.Q3 cl T1.Q3.A4 alpha: 0.0 # of pairable values: 10\n",
      "T1.Q3 cl T1.Q3.A5 There has to be more than one value in the domain.\n",
      "T1.Q3 cl T1.Q3.A3 There has to be more than one value in the domain.\n",
      "T1.Q5 mc nominal alpha: 0.23026315789473673 # of pairable values: 10\n",
      "T1.Q6 cl T1.Q6.A1 alpha: 0.0625 # of pairable values: 10\n",
      "T1.Q6 cl T1.Q6.A2 alpha: 0.0 # of pairable values: 10\n",
      "T1.Q6 cl T1.Q6.A4 There has to be more than one value in the domain.\n",
      "T1.Q6 cl T1.Q6.A7 alpha: -0.125 # of pairable values: 10\n",
      "T1.Q6 cl T1.Q6.A8 alpha: 0.0 # of pairable values: 10\n",
      "T1.Q6 cl T1.Q6.A5 alpha: 0.0 # of pairable values: 10\n",
      "T1.Q6 cl T1.Q6.A3 alpha: 0.0 # of pairable values: 10\n",
      "T1.Q7 mc ordinal alpha: 0.5911764705882353 # of pairable values: 10\n",
      "T1.Q8 mc ordinal alpha: 0.44200000000000006 # of pairable values: 10\n",
      "T1.Q9 cl T1.Q9.A9 alpha: 0.0 # of pairable values: 7\n",
      "T1.Q9 cl T1.Q9.A2 alpha: 0.0 # of pairable values: 7\n",
      "T1.Q10 cl T1.Q10.A2 alpha: -0.0714285714285714 # of pairable values: 10\n",
      "T1.Q10 cl T1.Q10.A4 alpha: 0.1428571428571429 # of pairable values: 10\n",
      "T1.Q10 cl T1.Q10.A1 alpha: 0.0 # of pairable values: 10\n",
      "T1.Q10 cl T1.Q10.A3 alpha: -0.2857142857142856 # of pairable values: 10\n",
      "T1.Q10 cl T1.Q10.A5 There has to be more than one value in the domain.\n",
      "T1.Q11 mc ordinal alpha: 0.26049999999999995 # of pairable values: 10\n",
      "T1.Q12 mc ordinal alpha: 0.6415 # of pairable values: 10\n",
      "T1.Q13 mc ordinal alpha: 0.0 # of pairable values: 10\n",
      "T1.Q14 mc nominal alpha: 0.4375 # of pairable values: 10\n",
      "T1.Q15 cl T1.Q15.A1 alpha: 0.20000000000000007 # of pairable values: 7\n",
      "T1.Q15 cl T1.Q15.A3 alpha: 0.0 # of pairable values: 7\n",
      "T1.Q15 cl T1.Q15.A2 alpha: 0.0 # of pairable values: 7\n",
      "T1.Q15 cl T1.Q15.A4 alpha: nan # of pairable values: 7\n",
      "T1.Q17 mc ordinal alpha: -0.15949999999999998 # of pairable values: 10\n",
      "T1.Q18 mc ordinal alpha: 0.38479020979020984 # of pairable values: 10\n",
      "\n",
      "Covid_Probabilityv1-2020-12-02T0750-DataHuntByCase.csv\n",
      "T1.Q1 mc ordinal alpha: 0.305074967594842 # of pairable values: 237\n",
      "T1.Q5 mc ordinal alpha: 0.23179111982413547 # of pairable values: 237\n",
      "T1.Q6 mc nominal alpha: 0.4016248723705452 # of pairable values: 237\n",
      "T1.Q11 mc ordinal alpha: 0.08660508309676462 # of pairable values: 237\n",
      "T1.Q12 cl T1.Q12.A3 alpha: 0.2734254992319508 # of pairable values: 45\n",
      "T1.Q12 cl T1.Q12.A2 alpha: 0.07226890756302518 # of pairable values: 45\n",
      "T1.Q12 cl T1.Q12.A4 alpha: 0.02674897119341557 # of pairable values: 45\n",
      "T1.Q12 cl T1.Q12.A1 alpha: 0.03296703296703296 # of pairable values: 45\n",
      "T1.Q12 cl T1.Q12.A5 alpha: -0.09999999999999987 # of pairable values: 45\n",
      "T1.Q13 mc ordinal alpha: -0.04547095786043909 # of pairable values: 237\n",
      "T1.Q14 mc ordinal alpha: -0.05233707217512973 # of pairable values: 237\n",
      "T1.Q2 mc ordinal alpha: 0.34797154354351045 # of pairable values: 120\n",
      "T1.Q7 mc ordinal alpha: 0.1223691376259991 # of pairable values: 49\n",
      "T1.Q10 mc ordinal alpha: 0.14003059978570187 # of pairable values: 49\n",
      "\n",
      "Covid_Reasoningv1-2020-12-02T0750-DataHuntByCase.csv\n",
      "T1.Q1 cl T1.Q1.A1 alpha: 0.20020374687041342 # of pairable values: 187\n",
      "T1.Q1 cl T1.Q1.A6 alpha: 0.2000579273716594 # of pairable values: 187\n",
      "T1.Q1 cl T1.Q1.A3 alpha: 0.20003877503877499 # of pairable values: 187\n",
      "T1.Q1 cl T1.Q1.A2 alpha: 0.08176221517796922 # of pairable values: 187\n",
      "T1.Q1 cl T1.Q1.A5 alpha: -0.03910614525139655 # of pairable values: 187\n",
      "T1.Q1 cl T1.Q1.A4 alpha: 0.13308364544319606 # of pairable values: 187\n",
      "T1.Q2 cl T1.Q2.A5 alpha: -0.06257378984651707 # of pairable values: 55\n",
      "T1.Q2 cl T1.Q2.A6 alpha: 0.2940507768093975 # of pairable values: 55\n",
      "T1.Q2 cl T1.Q2.A2 alpha: 0.1923076923076923 # of pairable values: 55\n",
      "T1.Q2 cl T1.Q2.A3 alpha: 0.6785714285714286 # of pairable values: 55\n",
      "T1.Q2 cl T1.Q2.A1 alpha: -0.008000000000000007 # of pairable values: 55\n",
      "T1.Q2 cl T1.Q2.A4 alpha: nan # of pairable values: 55\n",
      "T1.Q7 mc ordinal alpha: 0.2705936627538894 # of pairable values: 60\n",
      "T1.Q9 mc ordinal alpha: 0.06108836724025446 # of pairable values: 187\n",
      "T1.Q10 mc ordinal alpha: -0.08114228526104328 # of pairable values: 187\n",
      "T1.Q6 cl T1.Q6.A9 alpha: 0.27328843995510654 # of pairable values: 38\n",
      "T1.Q6 cl T1.Q6.A7 alpha: 0.047794117647058876 # of pairable values: 38\n",
      "T1.Q6 cl T1.Q6.A5 alpha: -0.02777777777777768 # of pairable values: 38\n",
      "T1.Q6 cl T1.Q6.A6 alpha: 0.0 # of pairable values: 38\n",
      "T1.Q6 cl T1.Q6.A8 alpha: 0.7279411764705883 # of pairable values: 38\n",
      "T1.Q6 cl T1.Q6.A1 alpha: -0.009090909090909038 # of pairable values: 38\n",
      "T1.Q6 cl T1.Q6.A10 alpha: 0.0 # of pairable values: 38\n",
      "T1.Q6 cl T1.Q6.A2 alpha: 0.03645833333333337 # of pairable values: 38\n",
      "T1.Q6 cl T1.Q6.A4 alpha: 0.4558823529411765 # of pairable values: 38\n",
      "T1.Q6 cl T1.Q6.A3 alpha: nan # of pairable values: 38\n",
      "T1.Q3 cl T1.Q3.A7 alpha: 0.052341597796143335 # of pairable values: 44\n",
      "T1.Q3 cl T1.Q3.A1 alpha: -0.04878048780487787 # of pairable values: 44\n",
      "T1.Q3 cl T1.Q3.A6 alpha: 0.264957264957265 # of pairable values: 44\n",
      "T1.Q3 cl T1.Q3.A5 alpha: 0.0 # of pairable values: 44\n",
      "T1.Q3 cl T1.Q3.A3 alpha: -0.023809523809523947 # of pairable values: 44\n",
      "T1.Q3 cl T1.Q3.A2 alpha: nan # of pairable values: 44\n",
      "T1.Q4 mc nominal alpha: nan # of pairable values: 0\n",
      "T1.Q5 mc There has to be more than one value in the domain.\n",
      "\n",
      "Covid_SourceRelevancev1-2020-12-02T0751-DataHuntByCase.csv\n",
      "T1.Q1 cl T1.Q1.A1 alpha: 0.13517220260911622 # of pairable values: 472\n",
      "T1.Q1 cl T1.Q1.A2 alpha: 0.13517220260911622 # of pairable values: 472\n",
      "T1.Q2 mc ordinal alpha: 0.46717283584385294 # of pairable values: 473\n",
      "T1.Q3 mc nominal alpha: 0.38446853151584015 # of pairable values: 473\n",
      "T1.Q5 cl T1.Q5.A7 alpha: 0.4198629336094083 # of pairable values: 466\n",
      "T1.Q5 cl T1.Q5.A6 alpha: 0.0555917366905988 # of pairable values: 466\n",
      "T1.Q5 cl T1.Q5.A9 alpha: 0.4298007879271426 # of pairable values: 466\n",
      "T1.Q5 cl T1.Q5.A5 alpha: 0.09458164948029824 # of pairable values: 466\n",
      "T1.Q5 cl T1.Q5.A3 alpha: 0.30140252255403566 # of pairable values: 466\n",
      "T1.Q5 cl T1.Q5.A8 alpha: 0.17204802680531295 # of pairable values: 466\n",
      "T1.Q5 cl T1.Q5.A2 alpha: 0.3305801161557741 # of pairable values: 466\n",
      "T1.Q5 cl T1.Q5.A4 alpha: 0.0 # of pairable values: 466\n",
      "T1.Q5 cl T1.Q5.A1 alpha: 0.7286731240518147 # of pairable values: 466\n",
      "T1.Q6 cl T1.Q6.A1 alpha: 0.5718550968467552 # of pairable values: 455\n",
      "T1.Q6 cl T1.Q6.A2 alpha: 0.5718550968467552 # of pairable values: 455\n",
      "T1.Q7 cl T1.Q7.A4 alpha: 0.2937596044688413 # of pairable values: 472\n",
      "T1.Q7 cl T1.Q7.A6 alpha: 0.1991885967421908 # of pairable values: 472\n",
      "T1.Q7 cl T1.Q7.A3 alpha: 0.05782333839055864 # of pairable values: 472\n",
      "T1.Q7 cl T1.Q7.A1 alpha: 0.2757190709483126 # of pairable values: 472\n",
      "T1.Q7 cl T1.Q7.A2 alpha: 0.032791656560756666 # of pairable values: 472\n",
      "T1.Q7 cl T1.Q7.A5 alpha: 0.0 # of pairable values: 472\n"
     ]
    },
    {
     "name": "stdout",
     "output_type": "stream",
     "text": [
      "T1.Q8 mc nominal alpha: 0.13299171838873058 # of pairable values: 473\n",
      "T1.Q9 mc ordinal alpha: -0.019119982594356655 # of pairable values: 473\n",
      "T1.Q10 mc ordinal alpha: -0.017148697749389097 # of pairable values: 473\n",
      "T1.Q4 cl T1.Q4.A1 alpha: 0.011046133853151341 # of pairable values: 141\n",
      "T1.Q4 cl T1.Q4.A9 alpha: 0.03097587719298245 # of pairable values: 141\n",
      "T1.Q4 cl T1.Q4.A6 alpha: 0.0 # of pairable values: 141\n",
      "T1.Q4 cl T1.Q4.A7 alpha: 0.0 # of pairable values: 141\n"
     ]
    }
   ],
   "source": [
    "calculate_alpha(\"Specialists DataHuntByCase\", \"Specialists output\")"
   ]
  },
  {
   "cell_type": "markdown",
   "metadata": {},
   "source": [
    "**runtime warning**"
   ]
  },
  {
   "cell_type": "code",
   "execution_count": 8,
   "metadata": {},
   "outputs": [
    {
     "data": {
      "text/plain": [
       "array(['T1.Q1', 'T1.Q5', 'T1.Q6', 'T1.Q11', 'T1.Q12', 'T1.Q13', 'T1.Q14',\n",
       "       'T1.Q2', 'T1.Q7', 'T1.Q10'], dtype=object)"
      ]
     },
     "execution_count": 8,
     "metadata": {},
     "output_type": "execute_result"
    }
   ],
   "source": [
    "df = pd.read_csv(\"Specialists DataHuntByCase/Covid_Probabilityv1-2020-12-02T0750-DataHuntByCase.csv\")\n",
    "df[\"question_label\"].unique()"
   ]
  },
  {
   "cell_type": "code",
   "execution_count": 9,
   "metadata": {},
   "outputs": [
    {
     "data": {
      "text/plain": [
       "0.4016248723705452"
      ]
     },
     "execution_count": 9,
     "metadata": {},
     "output_type": "execute_result"
    }
   ],
   "source": [
    "df = pd.read_csv(\"Specialists DataHuntByCase/Covid_Probabilityv1-2020-12-02T0750-DataHuntByCase.csv\")\n",
    "df = df[df[\"question_label\"] == \"T1.Q6\"]\n",
    "cols = [\"quiz_task_uuid\", \"contributor_uuid\", \"question_label\", \"answer_label\"]\n",
    "df = df.reindex(columns=cols)\n",
    "array = to_reliability_mc(df)\n",
    "alpha(reliability_data=array, level_of_measurement=\"nominal\")"
   ]
  },
  {
   "cell_type": "markdown",
   "metadata": {},
   "source": [
    "Might need some future analysis. "
   ]
  },
  {
   "cell_type": "markdown",
   "metadata": {},
   "source": [
    "**cl question demo**"
   ]
  },
  {
   "cell_type": "code",
   "execution_count": 10,
   "metadata": {},
   "outputs": [
    {
     "data": {
      "text/html": [
       "<div>\n",
       "<style scoped>\n",
       "    .dataframe tbody tr th:only-of-type {\n",
       "        vertical-align: middle;\n",
       "    }\n",
       "\n",
       "    .dataframe tbody tr th {\n",
       "        vertical-align: top;\n",
       "    }\n",
       "\n",
       "    .dataframe thead th {\n",
       "        text-align: right;\n",
       "    }\n",
       "</style>\n",
       "<table border=\"1\" class=\"dataframe\">\n",
       "  <thead>\n",
       "    <tr style=\"text-align: right;\">\n",
       "      <th></th>\n",
       "      <th>quiz_task_uuid</th>\n",
       "      <th>contributor_uuid</th>\n",
       "      <th>question_label</th>\n",
       "      <th>answer_label</th>\n",
       "    </tr>\n",
       "  </thead>\n",
       "  <tbody>\n",
       "    <tr>\n",
       "      <th>83</th>\n",
       "      <td>9d4ac736-52b7-40df-b2a9-6164fa081960</td>\n",
       "      <td>38b9cf3a-588d-4137-a975-af770121a925</td>\n",
       "      <td>T1.Q1</td>\n",
       "      <td>T1.Q1.A1</td>\n",
       "    </tr>\n",
       "    <tr>\n",
       "      <th>84</th>\n",
       "      <td>9d4ac736-52b7-40df-b2a9-6164fa081960</td>\n",
       "      <td>38b9cf3a-588d-4137-a975-af770121a925</td>\n",
       "      <td>T1.Q1</td>\n",
       "      <td>T1.Q1.A2</td>\n",
       "    </tr>\n",
       "  </tbody>\n",
       "</table>\n",
       "</div>"
      ],
      "text/plain": [
       "                          quiz_task_uuid  \\\n",
       "83  9d4ac736-52b7-40df-b2a9-6164fa081960   \n",
       "84  9d4ac736-52b7-40df-b2a9-6164fa081960   \n",
       "\n",
       "                        contributor_uuid question_label answer_label  \n",
       "83  38b9cf3a-588d-4137-a975-af770121a925          T1.Q1     T1.Q1.A1  \n",
       "84  38b9cf3a-588d-4137-a975-af770121a925          T1.Q1     T1.Q1.A2  "
      ]
     },
     "execution_count": 10,
     "metadata": {},
     "output_type": "execute_result"
    }
   ],
   "source": [
    "df = pd.read_csv(\"Specialists DataHuntByCase/Covid_SourceRelevancev1-2020-12-02T0751-DataHuntByCase.csv\")\n",
    "df = df[df[\"question_label\"] == \"T1.Q1\"]\n",
    "cols = [\"quiz_task_uuid\", \"contributor_uuid\", \"question_label\", \"answer_label\"]\n",
    "df = df.reindex(columns=cols)\n",
    "df.iloc[8:10]"
   ]
  },
  {
   "cell_type": "markdown",
   "metadata": {},
   "source": [
    "This guy selected both A1 and A2 as the answer choices, so confirmed that this is a cl question."
   ]
  },
  {
   "cell_type": "code",
   "execution_count": 11,
   "metadata": {},
   "outputs": [
    {
     "data": {
      "text/html": [
       "<div>\n",
       "<style scoped>\n",
       "    .dataframe tbody tr th:only-of-type {\n",
       "        vertical-align: middle;\n",
       "    }\n",
       "\n",
       "    .dataframe tbody tr th {\n",
       "        vertical-align: top;\n",
       "    }\n",
       "\n",
       "    .dataframe thead th {\n",
       "        text-align: right;\n",
       "    }\n",
       "</style>\n",
       "<table border=\"1\" class=\"dataframe\">\n",
       "  <thead>\n",
       "    <tr style=\"text-align: right;\">\n",
       "      <th></th>\n",
       "      <th>quiz_task_uuid</th>\n",
       "      <th>contributor_uuid</th>\n",
       "      <th>question_label</th>\n",
       "      <th>answer_label</th>\n",
       "    </tr>\n",
       "  </thead>\n",
       "  <tbody>\n",
       "    <tr>\n",
       "      <th>0</th>\n",
       "      <td>9d4ac736-52b7-40df-b2a9-6164fa081960</td>\n",
       "      <td>00f548b7-6b63-4b47-828e-8e416b6ca0e2</td>\n",
       "      <td>T1.Q1</td>\n",
       "      <td>T1.Q1.A1</td>\n",
       "    </tr>\n",
       "    <tr>\n",
       "      <th>11</th>\n",
       "      <td>9d4ac736-52b7-40df-b2a9-6164fa081960</td>\n",
       "      <td>e44f5799-6915-45fd-874e-060f6afedcb9</td>\n",
       "      <td>T1.Q1</td>\n",
       "      <td>T1.Q1.A1</td>\n",
       "    </tr>\n",
       "    <tr>\n",
       "      <th>23</th>\n",
       "      <td>9d4ac736-52b7-40df-b2a9-6164fa081960</td>\n",
       "      <td>fed45769-aa61-4b8b-847e-a9c799acce15</td>\n",
       "      <td>T1.Q1</td>\n",
       "      <td>T1.Q1.A1</td>\n",
       "    </tr>\n",
       "    <tr>\n",
       "      <th>32</th>\n",
       "      <td>9d4ac736-52b7-40df-b2a9-6164fa081960</td>\n",
       "      <td>fb4ae4cc-234b-484a-b541-a8e3a9254a24</td>\n",
       "      <td>T1.Q1</td>\n",
       "      <td>T1.Q1.A2</td>\n",
       "    </tr>\n",
       "    <tr>\n",
       "      <th>43</th>\n",
       "      <td>9d4ac736-52b7-40df-b2a9-6164fa081960</td>\n",
       "      <td>3bb03f58-5f09-4414-b54e-43a814b9b09a</td>\n",
       "      <td>T1.Q1</td>\n",
       "      <td>T1.Q1.A1</td>\n",
       "    </tr>\n",
       "  </tbody>\n",
       "</table>\n",
       "</div>"
      ],
      "text/plain": [
       "                          quiz_task_uuid  \\\n",
       "0   9d4ac736-52b7-40df-b2a9-6164fa081960   \n",
       "11  9d4ac736-52b7-40df-b2a9-6164fa081960   \n",
       "23  9d4ac736-52b7-40df-b2a9-6164fa081960   \n",
       "32  9d4ac736-52b7-40df-b2a9-6164fa081960   \n",
       "43  9d4ac736-52b7-40df-b2a9-6164fa081960   \n",
       "\n",
       "                        contributor_uuid question_label answer_label  \n",
       "0   00f548b7-6b63-4b47-828e-8e416b6ca0e2          T1.Q1     T1.Q1.A1  \n",
       "11  e44f5799-6915-45fd-874e-060f6afedcb9          T1.Q1     T1.Q1.A1  \n",
       "23  fed45769-aa61-4b8b-847e-a9c799acce15          T1.Q1     T1.Q1.A1  \n",
       "32  fb4ae4cc-234b-484a-b541-a8e3a9254a24          T1.Q1     T1.Q1.A2  \n",
       "43  3bb03f58-5f09-4414-b54e-43a814b9b09a          T1.Q1     T1.Q1.A1  "
      ]
     },
     "execution_count": 11,
     "metadata": {},
     "output_type": "execute_result"
    }
   ],
   "source": [
    "df.head()"
   ]
  },
  {
   "cell_type": "code",
   "execution_count": 12,
   "metadata": {},
   "outputs": [
    {
     "data": {
      "text/html": [
       "<div>\n",
       "<style scoped>\n",
       "    .dataframe tbody tr th:only-of-type {\n",
       "        vertical-align: middle;\n",
       "    }\n",
       "\n",
       "    .dataframe tbody tr th {\n",
       "        vertical-align: top;\n",
       "    }\n",
       "\n",
       "    .dataframe thead th {\n",
       "        text-align: right;\n",
       "    }\n",
       "</style>\n",
       "<table border=\"1\" class=\"dataframe\">\n",
       "  <thead>\n",
       "    <tr style=\"text-align: right;\">\n",
       "      <th></th>\n",
       "      <th>quiz_task_uuid</th>\n",
       "      <th>contributor_uuid</th>\n",
       "      <th>question_label</th>\n",
       "      <th>answer_label_T1.Q1.A1</th>\n",
       "      <th>answer_label_T1.Q1.A2</th>\n",
       "    </tr>\n",
       "  </thead>\n",
       "  <tbody>\n",
       "    <tr>\n",
       "      <th>83</th>\n",
       "      <td>9d4ac736-52b7-40df-b2a9-6164fa081960</td>\n",
       "      <td>38b9cf3a-588d-4137-a975-af770121a925</td>\n",
       "      <td>T1.Q1</td>\n",
       "      <td>1</td>\n",
       "      <td>0</td>\n",
       "    </tr>\n",
       "    <tr>\n",
       "      <th>84</th>\n",
       "      <td>9d4ac736-52b7-40df-b2a9-6164fa081960</td>\n",
       "      <td>38b9cf3a-588d-4137-a975-af770121a925</td>\n",
       "      <td>T1.Q1</td>\n",
       "      <td>0</td>\n",
       "      <td>1</td>\n",
       "    </tr>\n",
       "  </tbody>\n",
       "</table>\n",
       "</div>"
      ],
      "text/plain": [
       "                          quiz_task_uuid  \\\n",
       "83  9d4ac736-52b7-40df-b2a9-6164fa081960   \n",
       "84  9d4ac736-52b7-40df-b2a9-6164fa081960   \n",
       "\n",
       "                        contributor_uuid question_label  \\\n",
       "83  38b9cf3a-588d-4137-a975-af770121a925          T1.Q1   \n",
       "84  38b9cf3a-588d-4137-a975-af770121a925          T1.Q1   \n",
       "\n",
       "    answer_label_T1.Q1.A1  answer_label_T1.Q1.A2  \n",
       "83                      1                      0  \n",
       "84                      0                      1  "
      ]
     },
     "execution_count": 12,
     "metadata": {},
     "output_type": "execute_result"
    }
   ],
   "source": [
    "# one-hot-encode the dataframe \n",
    "one_hot_encode = pd.get_dummies(df, columns = [\"answer_label\"])\n",
    "one_hot_encode[8:10]"
   ]
  },
  {
   "cell_type": "code",
   "execution_count": 13,
   "metadata": {},
   "outputs": [
    {
     "data": {
      "text/html": [
       "<div>\n",
       "<style scoped>\n",
       "    .dataframe tbody tr th:only-of-type {\n",
       "        vertical-align: middle;\n",
       "    }\n",
       "\n",
       "    .dataframe tbody tr th {\n",
       "        vertical-align: top;\n",
       "    }\n",
       "\n",
       "    .dataframe thead th {\n",
       "        text-align: right;\n",
       "    }\n",
       "</style>\n",
       "<table border=\"1\" class=\"dataframe\">\n",
       "  <thead>\n",
       "    <tr style=\"text-align: right;\">\n",
       "      <th></th>\n",
       "      <th>quiz_task_uuid</th>\n",
       "      <th>contributor_uuid</th>\n",
       "      <th>question_label</th>\n",
       "      <th>answer_label_T1.Q1.A1</th>\n",
       "    </tr>\n",
       "  </thead>\n",
       "  <tbody>\n",
       "    <tr>\n",
       "      <th>0</th>\n",
       "      <td>9d4ac736-52b7-40df-b2a9-6164fa081960</td>\n",
       "      <td>00f548b7-6b63-4b47-828e-8e416b6ca0e2</td>\n",
       "      <td>T1.Q1</td>\n",
       "      <td>1</td>\n",
       "    </tr>\n",
       "    <tr>\n",
       "      <th>11</th>\n",
       "      <td>9d4ac736-52b7-40df-b2a9-6164fa081960</td>\n",
       "      <td>e44f5799-6915-45fd-874e-060f6afedcb9</td>\n",
       "      <td>T1.Q1</td>\n",
       "      <td>1</td>\n",
       "    </tr>\n",
       "    <tr>\n",
       "      <th>23</th>\n",
       "      <td>9d4ac736-52b7-40df-b2a9-6164fa081960</td>\n",
       "      <td>fed45769-aa61-4b8b-847e-a9c799acce15</td>\n",
       "      <td>T1.Q1</td>\n",
       "      <td>1</td>\n",
       "    </tr>\n",
       "    <tr>\n",
       "      <th>32</th>\n",
       "      <td>9d4ac736-52b7-40df-b2a9-6164fa081960</td>\n",
       "      <td>fb4ae4cc-234b-484a-b541-a8e3a9254a24</td>\n",
       "      <td>T1.Q1</td>\n",
       "      <td>0</td>\n",
       "    </tr>\n",
       "    <tr>\n",
       "      <th>43</th>\n",
       "      <td>9d4ac736-52b7-40df-b2a9-6164fa081960</td>\n",
       "      <td>3bb03f58-5f09-4414-b54e-43a814b9b09a</td>\n",
       "      <td>T1.Q1</td>\n",
       "      <td>1</td>\n",
       "    </tr>\n",
       "  </tbody>\n",
       "</table>\n",
       "</div>"
      ],
      "text/plain": [
       "                          quiz_task_uuid  \\\n",
       "0   9d4ac736-52b7-40df-b2a9-6164fa081960   \n",
       "11  9d4ac736-52b7-40df-b2a9-6164fa081960   \n",
       "23  9d4ac736-52b7-40df-b2a9-6164fa081960   \n",
       "32  9d4ac736-52b7-40df-b2a9-6164fa081960   \n",
       "43  9d4ac736-52b7-40df-b2a9-6164fa081960   \n",
       "\n",
       "                        contributor_uuid question_label  answer_label_T1.Q1.A1  \n",
       "0   00f548b7-6b63-4b47-828e-8e416b6ca0e2          T1.Q1                      1  \n",
       "11  e44f5799-6915-45fd-874e-060f6afedcb9          T1.Q1                      1  \n",
       "23  fed45769-aa61-4b8b-847e-a9c799acce15          T1.Q1                      1  \n",
       "32  fb4ae4cc-234b-484a-b541-a8e3a9254a24          T1.Q1                      0  \n",
       "43  3bb03f58-5f09-4414-b54e-43a814b9b09a          T1.Q1                      1  "
      ]
     },
     "execution_count": 13,
     "metadata": {},
     "output_type": "execute_result"
    }
   ],
   "source": [
    "# as an example, first select the first answer only \n",
    "one_hot_encode = one_hot_encode.iloc[:, 0:4]\n",
    "one_hot_encode.head()"
   ]
  },
  {
   "cell_type": "code",
   "execution_count": 14,
   "metadata": {},
   "outputs": [
    {
     "data": {
      "text/plain": [
       "1.0"
      ]
     },
     "execution_count": 14,
     "metadata": {},
     "output_type": "execute_result"
    }
   ],
   "source": [
    "# construct a pivot_table \n",
    "pivot = pd.pivot_table(one_hot_encode, values=\"answer_label_T1.Q1.A1\", \n",
    "                       index=\"contributor_uuid\", \n",
    "                       columns=\"quiz_task_uuid\", \n",
    "                       aggfunc=lambda x: list(x)[0])\n",
    "# let's look at where that contributor is \n",
    "pivot.loc[\"38b9cf3a-588d-4137-a975-af770121a925\", \"9d4ac736-52b7-40df-b2a9-6164fa081960\"]"
   ]
  },
  {
   "cell_type": "markdown",
   "metadata": {},
   "source": [
    "This is correct because that user input a 1 for A1. "
   ]
  },
  {
   "cell_type": "code",
   "execution_count": 15,
   "metadata": {},
   "outputs": [
    {
     "data": {
      "text/plain": [
       "array([[ 0., nan, nan, ..., nan, nan, nan],\n",
       "       [nan, nan, nan, ..., nan, nan, nan],\n",
       "       [ 0., nan, nan, ..., nan, nan, nan],\n",
       "       ...,\n",
       "       [ 0., nan, nan, ..., nan, nan, nan],\n",
       "       [nan,  1., nan, ..., nan, nan, nan],\n",
       "       [ 1., nan, nan, ..., nan, nan, nan]])"
      ]
     },
     "execution_count": 15,
     "metadata": {},
     "output_type": "execute_result"
    }
   ],
   "source": [
    "# convert to array \n",
    "array = pivot.to_numpy()\n",
    "array"
   ]
  },
  {
   "cell_type": "code",
   "execution_count": 16,
   "metadata": {},
   "outputs": [
    {
     "data": {
      "text/plain": [
       "0.13517220260911622"
      ]
     },
     "execution_count": 16,
     "metadata": {},
     "output_type": "execute_result"
    }
   ],
   "source": [
    "alpha(reliability_data=array, level_of_measurement=\"nominal\")"
   ]
  },
  {
   "cell_type": "markdown",
   "metadata": {},
   "source": [
    "**Why nan?**"
   ]
  },
  {
   "cell_type": "code",
   "execution_count": 18,
   "metadata": {},
   "outputs": [
    {
     "data": {
      "text/plain": [
       "array([[nan, 3],\n",
       "       [1, nan]], dtype=object)"
      ]
     },
     "metadata": {},
     "output_type": "display_data"
    },
    {
     "name": "stdout",
     "output_type": "stream",
     "text": [
      "nan\n"
     ]
    }
   ],
   "source": [
    "source = pd.read_csv(\"Specialists DataHuntByCase/Covid_Reasoningv1-2020-12-02T0750-DataHuntByCase.csv\")\n",
    "source = source[source[\"question_label\"] == \"T1.Q4\"]\n",
    "cols = [\"quiz_task_uuid\", \"contributor_uuid\", \"question_label\", \"answer_label\"]\n",
    "source = source.reindex(columns=cols)\n",
    "source = pd.pivot_table(data=source, values=\"answer_label\", index=\"contributor_uuid\",\n",
    "                        columns=\"quiz_task_uuid\", aggfunc=select)\n",
    "array = source.to_numpy()\n",
    "array = to_int(array)\n",
    "display(array)\n",
    "try:\n",
    "    print(np.round(alpha(reliability_data=array, level_of_measurement=\"nominal\"), 5))\n",
    "except Exception as e: \n",
    "    print(e)"
   ]
  },
  {
   "cell_type": "markdown",
   "metadata": {},
   "source": [
    "**More than one value in the domain?**"
   ]
  },
  {
   "cell_type": "code",
   "execution_count": 22,
   "metadata": {},
   "outputs": [
    {
     "data": {
      "text/plain": [
       "array([[nan, 3],\n",
       "       [3, nan]], dtype=object)"
      ]
     },
     "metadata": {},
     "output_type": "display_data"
    },
    {
     "name": "stdout",
     "output_type": "stream",
     "text": [
      "There has to be more than one value in the domain.\n"
     ]
    }
   ],
   "source": [
    "source = pd.read_csv(\"Specialists DataHuntByCase/Covid_Reasoningv1-2020-12-02T0750-DataHuntByCase.csv\")\n",
    "source = source[source[\"question_label\"] == \"T1.Q5\"]\n",
    "cols = [\"quiz_task_uuid\", \"contributor_uuid\", \"question_label\", \"answer_label\"]\n",
    "source = source.reindex(columns=cols)\n",
    "source = pd.pivot_table(data=source, values=\"answer_label\", index=\"contributor_uuid\",\n",
    "                        columns=\"quiz_task_uuid\", aggfunc=select)\n",
    "array = source.to_numpy()\n",
    "array = to_int(array)\n",
    "display(array)\n",
    "try:\n",
    "    print(np.round(alpha(reliability_data=array, level_of_measurement=\"nominal\"), 5))\n",
    "except Exception as e: \n",
    "    print(e)"
   ]
  },
  {
   "cell_type": "markdown",
   "metadata": {},
   "source": [
    "**Why 0?**"
   ]
  },
  {
   "cell_type": "code",
   "execution_count": 25,
   "metadata": {},
   "outputs": [
    {
     "data": {
      "text/plain": [
       "array([[3, nan],\n",
       "       [3, nan],\n",
       "       [2, nan],\n",
       "       [2, nan],\n",
       "       [3, nan],\n",
       "       [3, nan],\n",
       "       [3, nan],\n",
       "       [2, nan],\n",
       "       [3, nan],\n",
       "       [3, nan],\n",
       "       [3, nan],\n",
       "       [2, nan],\n",
       "       [2, nan],\n",
       "       [3, nan],\n",
       "       [2, nan],\n",
       "       [3, nan],\n",
       "       [2, nan],\n",
       "       [nan, 1]], dtype=object)"
      ]
     },
     "metadata": {},
     "output_type": "display_data"
    },
    {
     "name": "stdout",
     "output_type": "stream",
     "text": [
      "0.0\n"
     ]
    }
   ],
   "source": [
    "source = pd.read_csv(\"Specialists DataHuntByCase/Covid_Evidencev1-2020-12-02T0749-DataHuntByCase.csv\")\n",
    "source = source[source[\"question_label\"] == \"T1.Q6\"]\n",
    "cols = [\"quiz_task_uuid\", \"contributor_uuid\", \"question_label\", \"answer_label\"]\n",
    "source = source.reindex(columns=cols)\n",
    "source = pd.pivot_table(data=source, values=\"answer_label\", index=\"contributor_uuid\",\n",
    "                        columns=\"quiz_task_uuid\", aggfunc=select)\n",
    "array = source.to_numpy()\n",
    "array = to_int(array)\n",
    "display(array)\n",
    "try:\n",
    "    print(np.round(alpha(reliability_data=array, level_of_measurement=\"nominal\"), 5))\n",
    "except Exception as e: \n",
    "    print(e)"
   ]
  },
  {
   "cell_type": "markdown",
   "metadata": {},
   "source": [
    "**Why negative?**"
   ]
  },
  {
   "cell_type": "code",
   "execution_count": 23,
   "metadata": {},
   "outputs": [
    {
     "data": {
      "text/plain": [
       "array([[5, 5, 5, ..., 5, 5, 5],\n",
       "       [nan, nan, nan, ..., nan, nan, nan],\n",
       "       [nan, nan, nan, ..., nan, nan, nan],\n",
       "       ...,\n",
       "       [nan, nan, nan, ..., nan, nan, nan],\n",
       "       [nan, nan, nan, ..., nan, nan, nan],\n",
       "       [nan, nan, 7, ..., nan, nan, 9]], dtype=object)"
      ]
     },
     "metadata": {},
     "output_type": "display_data"
    },
    {
     "name": "stdout",
     "output_type": "stream",
     "text": [
      "-0.00925\n"
     ]
    }
   ],
   "source": [
    "source = pd.read_csv(\"Specialists DataHuntByCase/Covid_Evidencev1-2020-12-02T0749-DataHuntByCase.csv\")\n",
    "source = source[source[\"question_label\"] == \"T1.Q14\"]\n",
    "cols = [\"quiz_task_uuid\", \"contributor_uuid\", \"question_label\", \"answer_label\"]\n",
    "source = source.reindex(columns=cols)\n",
    "source = pd.pivot_table(data=source, values=\"answer_label\", index=\"contributor_uuid\",\n",
    "                        columns=\"quiz_task_uuid\", aggfunc=select)\n",
    "array = source.to_numpy()\n",
    "array = to_int(array)\n",
    "display(array)\n",
    "try:\n",
    "    print(np.round(alpha(reliability_data=array, level_of_measurement=\"nominal\"), 5))\n",
    "except Exception as e: \n",
    "    print(e)\n",
    "# df = pd.DataFrame(array)\n",
    "# df.to_excel('example2.xlsx')"
   ]
  },
  {
   "cell_type": "markdown",
   "metadata": {},
   "source": [
    "https://www.ncbi.nlm.nih.gov/pmc/articles/PMC4974794/#:~:text=Krippendorff's%20alpha%20in%20contrast%20is,negative%20values%20indicate%20inverse%20agreement.<br>\n",
    "Krippendorff’s alpha in contrast is based on the observed disagreement corrected for disagreement expected by chance. This leads to a range of −1 to 1 for both measures, where 1 indicates perfect agreement, 0 indicates no agreement beyond chance and negative values indicate inverse agreement."
   ]
  }
 ],
 "metadata": {
  "kernelspec": {
   "display_name": "Python 3",
   "language": "python",
   "name": "python3"
  },
  "language_info": {
   "codemirror_mode": {
    "name": "ipython",
    "version": 3
   },
   "file_extension": ".py",
   "mimetype": "text/x-python",
   "name": "python",
   "nbconvert_exporter": "python",
   "pygments_lexer": "ipython3",
   "version": "3.8.5"
  }
 },
 "nbformat": 4,
 "nbformat_minor": 2
}
