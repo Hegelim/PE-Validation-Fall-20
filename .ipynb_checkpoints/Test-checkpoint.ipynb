{
 "cells": [
  {
   "cell_type": "code",
   "execution_count": 1,
   "metadata": {},
   "outputs": [],
   "source": [
    "# import necessary modules \n",
    "# please run this everytime you open it\n",
    "import pandas as pd \n",
    "import numpy as np \n",
    "import matplotlib as plt \n",
    "import seaborn as sns\n",
    "import re\n",
    "import os"
   ]
  },
  {
   "cell_type": "code",
   "execution_count": 14,
   "metadata": {},
   "outputs": [],
   "source": [
    "# import krippendorff.py\n",
    "%run krippendorff.py\n",
    "%run Validation.ipynb"
   ]
  },
  {
   "cell_type": "code",
   "execution_count": 3,
   "metadata": {},
   "outputs": [
    {
     "data": {
      "text/plain": [
       "array([[ 0.,  1.,  0., ...,  0.,  0.,  0.],\n",
       "       [nan, nan, nan, ..., nan, nan, nan],\n",
       "       [nan, nan, nan, ..., nan, nan, nan],\n",
       "       ...,\n",
       "       [nan, nan, nan, ..., nan, nan, nan],\n",
       "       [nan, nan, nan, ..., nan, nan, nan],\n",
       "       [nan, nan, nan, ...,  0.,  1.,  0.]])"
      ]
     },
     "execution_count": 3,
     "metadata": {},
     "output_type": "execute_result"
    }
   ],
   "source": [
    "to_reliability(\"Specialists data\", \"Covid_Evidencev1-2020-10-04T1836-DataHunt.csv\", \"cl\", \"T1.Q11\")"
   ]
  },
  {
   "cell_type": "code",
   "execution_count": 4,
   "metadata": {},
   "outputs": [
    {
     "data": {
      "text/plain": [
       "0.072473"
      ]
     },
     "execution_count": 4,
     "metadata": {},
     "output_type": "execute_result"
    }
   ],
   "source": [
    "compute_alpha(\"Specialists data\",\n",
    "              \"Covid_Evidencev1-2020-10-04T1836-DataHunt.csv\", \"cl\",\n",
    "              \"T1.Q11\",\n",
    "              \"ordinal\", 6)"
   ]
  },
  {
   "cell_type": "code",
   "execution_count": 5,
   "metadata": {},
   "outputs": [
    {
     "data": {
      "text/plain": [
       "11"
      ]
     },
     "execution_count": 5,
     "metadata": {},
     "output_type": "execute_result"
    }
   ],
   "source": [
    "decompose_question(\"T1.Q11\")"
   ]
  },
  {
   "cell_type": "code",
   "execution_count": 6,
   "metadata": {},
   "outputs": [
    {
     "data": {
      "text/plain": [
       "'mc'"
      ]
     },
     "execution_count": 6,
     "metadata": {},
     "output_type": "execute_result"
    }
   ],
   "source": [
    "get_question_type(\"Argument relevance\", \"T1.Q3\")"
   ]
  },
  {
   "cell_type": "markdown",
   "metadata": {},
   "source": [
    "**get_measurement**"
   ]
  },
  {
   "cell_type": "code",
   "execution_count": 17,
   "metadata": {},
   "outputs": [
    {
     "name": "stdout",
     "output_type": "stream",
     "text": [
      "Covid_ArgumentRelevancev1.2-2020-11-15T0217-DataHuntByCase.csv\n",
      "T1.Q1 mc nominal\n",
      "Covid_Evidencev1-2020-11-15T0322-DataHuntByCase.csv\n",
      "T1.Q1 cl \n",
      "T1.Q2 cl \n",
      "T1.Q3 tx \n",
      "T1.Q7 tx \n",
      "T1.Q8 mc ordinal\n",
      "T1.Q9 mc nominal\n",
      "T1.Q12 mc ordinal\n",
      "T1.Q13 mc ordinal\n",
      "T1.Q14 mc ordinal\n",
      "T1.Q4 mc ordinal\n",
      "T1.Q10 mc ordinal\n",
      "T1.Q11 mc ordinal\n",
      "T1.Q5 mc ordinal\n",
      "T1.Q6 mc nominal\n",
      "Covid_Holisiticv1.2-2020-11-15T0325-DataHuntByCase.csv\n",
      "T1.Q1 mc nominal\n",
      "T1.Q3 cl \n",
      "T1.Q5 mc nominal\n",
      "T1.Q6 cl \n",
      "T1.Q7 mc ordinal\n",
      "T1.Q8 mc ordinal\n",
      "T1.Q9 cl \n",
      "T1.Q10 cl \n",
      "T1.Q11 mc ordinal\n",
      "T1.Q12 mc ordinal\n",
      "T1.Q13 mc ordinal\n",
      "T1.Q14 mc nominal\n",
      "T1.Q15 cl \n",
      "T1.Q17 mc ordinal\n",
      "T1.Q18 mc ordinal\n",
      "T1.Q4 tx \n",
      "T1.Q2 tx \n",
      "T1.Q16 tx \n",
      "Covid_Languagev1.1-2020-11-15T0327-DataHuntByCase.csv\n",
      "T1.Q12 mc ordinal\n",
      "T1.Q14 mc ordinal\n",
      "T1.Q15 mc ordinal\n",
      "T1.Q1 cl \n",
      "T1.Q11 mc ordinal\n",
      "T1.Q3 mc ordinal\n",
      "T1.Q13 mc ordinal\n",
      "T1.Q5 mc ordinal\n",
      "T1.Q6 cl \n",
      "T1.Q7 tx \n",
      "T1.Q2 mc ordinal\n",
      "T1.Q9 mc ordinal\n",
      "T1.Q10 mc ordinal\n",
      "Covid_Probabilityv1-2020-11-15T0328-DataHuntByCase.csv\n",
      "T1.Q1 mc ordinal\n",
      "T1.Q5 mc ordinal\n",
      "T1.Q6 mc nominal\n",
      "T1.Q11 mc ordinal\n",
      "T1.Q12 cl \n",
      "T1.Q13 mc ordinal\n",
      "T1.Q14 mc ordinal\n",
      "T1.Q2 mc ordinal\n",
      "T1.Q7 mc ordinal\n",
      "T1.Q10 mc ordinal\n",
      "Covid_Reasoningv1-2020-11-15T0331-DataHuntByCase.csv\n",
      "T1.Q1 cl \n",
      "T1.Q2 cl \n",
      "T1.Q7 mc ordinal\n",
      "T1.Q8 tx \n",
      "T1.Q9 mc ordinal\n",
      "T1.Q10 mc ordinal\n",
      "T1.Q6 cl \n",
      "T1.Q3 cl \n",
      "T1.Q4 mc nominal\n",
      "T1.Q5 mc nominal\n",
      "Covid_SourceRelevancev1-2020-11-15T0332-DataHuntByCase.csv\n",
      "T1.Q1 cl \n",
      "T1.Q2 mc ordinal\n",
      "T1.Q3 mc nominal\n",
      "T1.Q5 cl \n",
      "T1.Q6 cl \n",
      "T1.Q7 cl \n",
      "T1.Q8 mc nominal\n",
      "T1.Q9 mc ordinal\n",
      "T1.Q10 mc ordinal\n",
      "T1.Q4 cl \n"
     ]
    }
   ],
   "source": [
    "get_question_types(\"Specialists DataHuntByCase\")"
   ]
  },
  {
   "cell_type": "code",
   "execution_count": 18,
   "metadata": {},
   "outputs": [
    {
     "name": "stdout",
     "output_type": "stream",
     "text": [
      "\n",
      "Covid_ArgumentRelevancev1.2-2020-11-15T0217-DataHuntByCase.csv\n",
      "T1.Q1 mc nominal 0.1875967900886949\n",
      "\n",
      "Covid_Evidencev1-2020-11-15T0322-DataHuntByCase.csv\n",
      "T1.Q1 cl 0.3157522469395442\n",
      "T1.Q2 cl 0.16664606219229228\n",
      "T1.Q8 mc ordinal 0.13905618090209415\n",
      "T1.Q9 mc nominal 0.05326450481175238\n",
      "T1.Q12 mc ordinal 0.15015094028171772\n",
      "T1.Q13 mc ordinal 0.033136711920013884\n",
      "T1.Q14 mc ordinal -0.0016592887729971473\n",
      "T1.Q4 mc ordinal 0.13992877091981604\n",
      "T1.Q10 mc ordinal 0.12271907006150373\n",
      "T1.Q11 mc ordinal 0.027971037149836064\n",
      "T1.Q5 mc ordinal 0.42758458348799944\n",
      "T1.Q6 mc nominal 0.0\n",
      "\n",
      "Covid_Holisiticv1.2-2020-11-15T0325-DataHuntByCase.csv\n",
      "T1.Q1 mc nominal -0.008620689655172376\n",
      "T1.Q3 cl 0.41069330199764986\n",
      "T1.Q5 mc nominal 0.23026315789473673\n",
      "T1.Q6 cl 0.042472666105971446\n",
      "T1.Q7 mc ordinal 0.5911764705882353\n",
      "T1.Q8 mc ordinal 0.44200000000000006\n",
      "T1.Q9 cl 0.4693877551020408\n",
      "T1.Q10 cl 0.14930555555555558\n",
      "T1.Q11 mc ordinal 0.26049999999999995\n",
      "T1.Q12 mc ordinal 0.6415\n",
      "T1.Q13 mc ordinal 0.0\n",
      "T1.Q14 mc nominal 0.4375\n",
      "T1.Q15 cl 0.11572052401746724\n",
      "T1.Q17 mc ordinal -0.15949999999999998\n",
      "T1.Q18 mc ordinal 0.38479020979020984\n",
      "\n",
      "Covid_Languagev1.1-2020-11-15T0327-DataHuntByCase.csv\n",
      "T1.Q12 mc ordinal 0.09870650708435558\n",
      "T1.Q14 mc ordinal -0.011517488028051304\n",
      "T1.Q15 mc ordinal -0.034429055350072346\n",
      "T1.Q1 cl 0.2833452281532076\n",
      "T1.Q11 mc ordinal 0.18465298142717512\n",
      "T1.Q3 mc ordinal -0.019844488394021864\n",
      "T1.Q13 mc ordinal -0.3613445378151261\n",
      "T1.Q5 mc ordinal -0.008731766176122147\n",
      "T1.Q6 cl 0.24281137884830084\n",
      "T1.Q2 mc ordinal 0.3489692010369131\n",
      "T1.Q9 mc ordinal 0.6555511182108626\n",
      "T1.Q10 mc ordinal -0.08563373460633739\n",
      "\n",
      "Covid_Probabilityv1-2020-11-15T0328-DataHuntByCase.csv\n",
      "T1.Q1 mc ordinal 0.305074967594842\n",
      "T1.Q5 mc ordinal 0.23179111982413547\n",
      "T1.Q6 mc nominal 0.4016248723705452\n",
      "T1.Q11 mc ordinal 0.08660508309676462\n",
      "T1.Q12 cl 0.11123131244835094\n",
      "T1.Q13 mc ordinal -0.04547095786043909\n",
      "T1.Q14 mc ordinal -0.05233707217512973\n",
      "T1.Q2 mc ordinal 0.34797154354351045\n",
      "T1.Q7 mc ordinal 0.1223691376259991\n",
      "T1.Q10 mc ordinal 0.14003059978570187\n",
      "\n",
      "Covid_Reasoningv1-2020-11-15T0331-DataHuntByCase.csv\n",
      "T1.Q1 cl 0.21259249581471806\n",
      "T1.Q2 cl 0.34556710615280595\n",
      "T1.Q7 mc ordinal 0.2705936627538894\n",
      "T1.Q9 mc ordinal 0.06108836724025446\n",
      "T1.Q10 mc ordinal -0.08114228526104328\n",
      "T1.Q6 cl 0.305816454752625\n",
      "T1.Q3 cl 0.5290633608815427\n",
      "T1.Q4 mc nominal nan\n",
      "T1.Q5 mc There has to be more than one value in the domain.\n",
      "\n",
      "Covid_SourceRelevancev1-2020-11-15T0332-DataHuntByCase.csv\n",
      "T1.Q1 cl 0.14434350938673657\n",
      "T1.Q2 mc ordinal 0.46717283584385294\n",
      "T1.Q3 mc nominal 0.38446853151584015\n",
      "T1.Q5 cl 0.49479568787820793\n",
      "T1.Q6 cl 0.5647245506271219\n",
      "T1.Q7 cl 0.38123852465803243\n",
      "T1.Q8 mc nominal 0.13299171838873058\n",
      "T1.Q9 mc ordinal -0.019119982594356655\n",
      "T1.Q10 mc ordinal -0.017148697749389097\n",
      "T1.Q4 cl 0.739735536357749\n"
     ]
    }
   ],
   "source": [
    "calculate_alpha(\"Specialists DataHuntByCase\")"
   ]
  },
  {
   "cell_type": "markdown",
   "metadata": {},
   "source": [
    "**Why nan?**"
   ]
  },
  {
   "cell_type": "code",
   "execution_count": 43,
   "metadata": {},
   "outputs": [
    {
     "data": {
      "text/plain": [
       "array([[2, nan, nan, nan],\n",
       "       [nan, 4, 2, 5]], dtype=object)"
      ]
     },
     "metadata": {},
     "output_type": "display_data"
    },
    {
     "name": "stdout",
     "output_type": "stream",
     "text": [
      "nan\n"
     ]
    }
   ],
   "source": [
    "source = pd.read_csv(\"Specialists DataHuntByCase/Covid_Holisiticv1.2-2020-10-04T1803-DataHuntByCase.csv\")\n",
    "source = source[source[\"question_label\"] == \"T1.Q5\"]\n",
    "cols = [\"quiz_task_uuid\", \"contributor_uuid\", \"question_label\", \"answer_label\"]\n",
    "source = source.reindex(columns=cols)\n",
    "source = pd.pivot_table(data=source, values=\"answer_label\", index=\"contributor_uuid\",\n",
    "                        columns=\"quiz_task_uuid\", aggfunc=select)\n",
    "array = source.to_numpy()\n",
    "array = to_int(array)\n",
    "display(array)\n",
    "try:\n",
    "    print(np.round(alpha(reliability_data=array, level_of_measurement=\"nominal\"), 5))\n",
    "except Exception as e: \n",
    "    print(e)"
   ]
  },
  {
   "cell_type": "code",
   "execution_count": 19,
   "metadata": {},
   "outputs": [
    {
     "data": {
      "text/plain": [
       "array([[nan, 3],\n",
       "       [3, nan]], dtype=object)"
      ]
     },
     "metadata": {},
     "output_type": "display_data"
    },
    {
     "name": "stdout",
     "output_type": "stream",
     "text": [
      "There has to be more than one value in the domain.\n"
     ]
    }
   ],
   "source": [
    "source = pd.read_csv(\"Specialists DataHuntByCase/Covid_Reasoningv1-2020-11-15T0331-DataHuntByCase.csv\")\n",
    "source = source[source[\"question_label\"] == \"T1.Q5\"]\n",
    "cols = [\"quiz_task_uuid\", \"contributor_uuid\", \"question_label\", \"answer_label\"]\n",
    "source = source.reindex(columns=cols)\n",
    "source = pd.pivot_table(data=source, values=\"answer_label\", index=\"contributor_uuid\",\n",
    "                        columns=\"quiz_task_uuid\", aggfunc=select)\n",
    "array = source.to_numpy()\n",
    "array = to_int(array)\n",
    "display(array)\n",
    "try:\n",
    "    print(np.round(alpha(reliability_data=array, level_of_measurement=\"nominal\"), 5))\n",
    "except Exception as e: \n",
    "    print(e)"
   ]
  },
  {
   "cell_type": "code",
   "execution_count": 20,
   "metadata": {},
   "outputs": [
    {
     "data": {
      "text/plain": [
       "array([[nan, 3],\n",
       "       [1, nan]], dtype=object)"
      ]
     },
     "metadata": {},
     "output_type": "display_data"
    },
    {
     "name": "stdout",
     "output_type": "stream",
     "text": [
      "nan\n"
     ]
    }
   ],
   "source": [
    "source = pd.read_csv(\"Specialists DataHuntByCase/Covid_Reasoningv1-2020-11-15T0331-DataHuntByCase.csv\")\n",
    "source = source[source[\"question_label\"] == \"T1.Q4\"]\n",
    "cols = [\"quiz_task_uuid\", \"contributor_uuid\", \"question_label\", \"answer_label\"]\n",
    "source = source.reindex(columns=cols)\n",
    "source = pd.pivot_table(data=source, values=\"answer_label\", index=\"contributor_uuid\",\n",
    "                        columns=\"quiz_task_uuid\", aggfunc=select)\n",
    "array = source.to_numpy()\n",
    "array = to_int(array)\n",
    "display(array)\n",
    "try:\n",
    "    print(np.round(alpha(reliability_data=array, level_of_measurement=\"nominal\"), 5))\n",
    "except Exception as e: \n",
    "    print(e)"
   ]
  },
  {
   "cell_type": "markdown",
   "metadata": {},
   "source": [
    "**More than one value in the domain?**"
   ]
  },
  {
   "cell_type": "code",
   "execution_count": 3,
   "metadata": {},
   "outputs": [
    {
     "data": {
      "text/plain": [
       "array([[1, nan, nan, nan],\n",
       "       [nan, 1, 1, 1]], dtype=object)"
      ]
     },
     "metadata": {},
     "output_type": "display_data"
    },
    {
     "name": "stdout",
     "output_type": "stream",
     "text": [
      "There has to be more than one value in the domain.\n"
     ]
    }
   ],
   "source": [
    "source = pd.read_csv(\"Specialists data/Covid_Holisiticv1.2-2020-10-04T1803-DataHunt.csv\")\n",
    "source = source[source[\"question_label\"] == \"T1.Q1\"]\n",
    "cols = [\"quiz_task_uuid\", \"contributor_uuid\", \"question_label\", \"answer_label\"]\n",
    "source = source.reindex(columns=cols)\n",
    "source = pd.pivot_table(data=source, values=\"answer_label\", index=\"contributor_uuid\",\n",
    "                        columns=\"quiz_task_uuid\", aggfunc=select)\n",
    "array = source.to_numpy()\n",
    "array = to_int(array)\n",
    "display(array)\n",
    "try:\n",
    "    print(np.round(alpha(reliability_data=array, level_of_measurement=\"nominal\"), 5))\n",
    "except Exception as e: \n",
    "    print(e)"
   ]
  },
  {
   "cell_type": "markdown",
   "metadata": {},
   "source": [
    "**Why negative?**"
   ]
  },
  {
   "cell_type": "code",
   "execution_count": 41,
   "metadata": {},
   "outputs": [
    {
     "name": "stdout",
     "output_type": "stream",
     "text": [
      "-0.00846\n"
     ]
    }
   ],
   "source": [
    "source = pd.read_csv(\"Specialists DataHuntByCase/Covid_Evidencev1-2020-10-04T1836-DataHuntByCase.csv\")\n",
    "source = source[source[\"question_label\"] == \"T1.Q14\"]\n",
    "cols = [\"quiz_task_uuid\", \"contributor_uuid\", \"question_label\", \"answer_label\"]\n",
    "source = source.reindex(columns=cols)\n",
    "source = pd.pivot_table(data=source, values=\"answer_label\", index=\"contributor_uuid\",\n",
    "                        columns=\"quiz_task_uuid\", aggfunc=select)\n",
    "array = source.to_numpy()\n",
    "array = to_int(array)\n",
    "try:\n",
    "    print(np.round(alpha(reliability_data=array, level_of_measurement=\"nominal\"), 5))\n",
    "except Exception as e: \n",
    "    print(e)\n",
    "# df = pd.DataFrame(array)\n",
    "# df.to_excel('example2.xlsx')"
   ]
  },
  {
   "cell_type": "markdown",
   "metadata": {},
   "source": [
    "https://www.ncbi.nlm.nih.gov/pmc/articles/PMC4974794/#:~:text=Krippendorff's%20alpha%20in%20contrast%20is,negative%20values%20indicate%20inverse%20agreement.<br>\n",
    "Krippendorff’s alpha in contrast is based on the observed disagreement corrected for disagreement expected by chance. This leads to a range of −1 to 1 for both measures, where 1 indicates perfect agreement, 0 indicates no agreement beyond chance and negative values indicate inverse agreement."
   ]
  }
 ],
 "metadata": {
  "kernelspec": {
   "display_name": "Python 3",
   "language": "python",
   "name": "python3"
  },
  "language_info": {
   "codemirror_mode": {
    "name": "ipython",
    "version": 3
   },
   "file_extension": ".py",
   "mimetype": "text/x-python",
   "name": "python",
   "nbconvert_exporter": "python",
   "pygments_lexer": "ipython3",
   "version": "3.7.3"
  }
 },
 "nbformat": 4,
 "nbformat_minor": 2
}
