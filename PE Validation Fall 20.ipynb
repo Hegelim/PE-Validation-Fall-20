{
 "cells": [
  {
   "cell_type": "markdown",
   "metadata": {},
   "source": [
    "# PE Validation Fall 20"
   ]
  },
  {
   "cell_type": "code",
   "execution_count": 1,
   "metadata": {},
   "outputs": [],
   "source": [
    "# import necessary modules \n",
    "# please run this everytime you open it\n",
    "import pandas as pd \n",
    "import numpy as np \n",
    "import matplotlib as plt \n",
    "import seaborn as sns\n",
    "import re\n",
    "import os"
   ]
  },
  {
   "cell_type": "markdown",
   "metadata": {},
   "source": [
    "Task1:"
   ]
  },
  {
   "cell_type": "code",
   "execution_count": 2,
   "metadata": {},
   "outputs": [],
   "source": [
    "# figure out a way to read in schema txt files (inside the schema folder)\n",
    "# for example, I have a source file (such as Source_relevance.csv) and \n",
    "# I know the question_label, but I want to build a function to know \n",
    "# whether this question (Q1/Q2..) is multiple-choice or checklist\n",
    "# build a function to accomplish this\n",
    "# func(schemafile(...txt), input(..csv), question_label(Q1/Q2...)) -> checlist/multiple choice "
   ]
  },
  {
   "cell_type": "markdown",
   "metadata": {},
   "source": [
    "Task2: "
   ]
  },
  {
   "cell_type": "code",
   "execution_count": 3,
   "metadata": {},
   "outputs": [],
   "source": [
    "# not only do I want to know whether it's multiple-choice or checklist \n",
    "# I also want to know how many different answer choices are there\n",
    "# build a function to accomplish this \n",
    "# func(schemafile(...txt), input(..csv), question_label(Q1/Q2...)) -> # of different answer choices"
   ]
  },
  {
   "cell_type": "markdown",
   "metadata": {},
   "source": [
    "Task3:"
   ]
  },
  {
   "cell_type": "code",
   "execution_count": 4,
   "metadata": {},
   "outputs": [],
   "source": [
    "# figure out how to uniquely identify each submission, \n",
    "# since there might be one contributor who made \n",
    "# several submissions. \n",
    "# can't use contributor_uuid. What to use? "
   ]
  },
  {
   "cell_type": "markdown",
   "metadata": {},
   "source": [
    "Task4: "
   ]
  },
  {
   "cell_type": "code",
   "execution_count": 5,
   "metadata": {},
   "outputs": [],
   "source": [
    "# one-hot-encode checklist questions to [0, 1]\n",
    "# for example, Q4 in source relevance task is a checklist question\n",
    "# if someone selects both A1 and A2, then it's [1, 1]\n",
    "# return a dataframe that has each question_label but list out the answers in [] format. "
   ]
  },
  {
   "cell_type": "code",
   "execution_count": null,
   "metadata": {},
   "outputs": [],
   "source": []
  },
  {
   "cell_type": "code",
   "execution_count": null,
   "metadata": {},
   "outputs": [],
   "source": []
  },
  {
   "cell_type": "code",
   "execution_count": null,
   "metadata": {},
   "outputs": [],
   "source": []
  },
  {
   "cell_type": "markdown",
   "metadata": {},
   "source": [
    "## Experimentation ground below: "
   ]
  },
  {
   "cell_type": "markdown",
   "metadata": {},
   "source": [
    "## Charlie"
   ]
  },
  {
   "cell_type": "code",
   "execution_count": null,
   "metadata": {},
   "outputs": [],
   "source": []
  },
  {
   "cell_type": "code",
   "execution_count": null,
   "metadata": {},
   "outputs": [],
   "source": []
  },
  {
   "cell_type": "code",
   "execution_count": null,
   "metadata": {},
   "outputs": [],
   "source": []
  },
  {
   "cell_type": "markdown",
   "metadata": {},
   "source": [
    "## Katherine"
   ]
  },
  {
   "cell_type": "code",
   "execution_count": null,
   "metadata": {},
   "outputs": [],
   "source": []
  },
  {
   "cell_type": "code",
   "execution_count": null,
   "metadata": {},
   "outputs": [],
   "source": []
  },
  {
   "cell_type": "code",
   "execution_count": null,
   "metadata": {},
   "outputs": [],
   "source": []
  },
  {
   "cell_type": "markdown",
   "metadata": {},
   "source": [
    "## Yewen"
   ]
  },
  {
   "cell_type": "markdown",
   "metadata": {},
   "source": [
    "### Questions: "
   ]
  },
  {
   "cell_type": "code",
   "execution_count": 6,
   "metadata": {},
   "outputs": [],
   "source": [
    "# # read json lines file \n",
    "# data = pd.read_json('2020 data/2020-09-25_pe_webhooks.jsonl', lines=True)\n",
    "# data.head()"
   ]
  },
  {
   "cell_type": "code",
   "execution_count": 7,
   "metadata": {},
   "outputs": [],
   "source": [
    "# source.columns"
   ]
  },
  {
   "cell_type": "code",
   "execution_count": 8,
   "metadata": {},
   "outputs": [],
   "source": [
    "# source[source[\"contributor_uuid\"] == \"00f548b7-6b63-4b47-828e-8e416b6ca0e2\"][[\"contributor_uuid\", \"created\", \"finish_time\", \"elapsed_seconds\", \"question_label\", \"answer_label\", \"answer_uuid\"]]"
   ]
  },
  {
   "cell_type": "markdown",
   "metadata": {},
   "source": [
    "## Triager to uAlpha"
   ]
  },
  {
   "cell_type": "code",
   "execution_count": 9,
   "metadata": {},
   "outputs": [],
   "source": [
    "# create mapping for topic_name\n",
    "dic = {\"Quoted Sources\":1,\n",
    "           \"Arguments\":2,\n",
    "           \"Assertions\":3, \n",
    "           \"Needs Fact-Check\":4, \n",
    "           \"Language\":5, \n",
    "           \"Reasoning\":6, \n",
    "           \"Probability\":7, \n",
    "           \"Evidence\":8}\n",
    "\n",
    "    \n",
    "# mapping topic_name to integers \n",
    "def mapping(df, dic):\n",
    "    # df - dataframe to be mapped \n",
    "    # dic - dictionary of mapping \n",
    "    df[\"topic_name\"] = df[\"topic_name\"].map(dic)\n",
    "    return df \n",
    "\n",
    "\n",
    "# filter df and select only certain cols as input\n",
    "def slice_input(df):\n",
    "    cols = [\"contributor_uuid\", \"topic_name\", \"start_pos\",\n",
    "            \"end_pos\", \"article_text_length\", \"article_number\", \"created\"]\n",
    "    return df.reindex(columns=cols)\n",
    "\n",
    "\n",
    "# filter df and select only certain cols as output\n",
    "def slice_output(df):\n",
    "    cols = [\"contributor_uuid\", \"topic_name\", \"blank\",  \n",
    "            \"start_pos_adjusted\", \"end_pos_adjusted\"]\n",
    "    return df.reindex(columns=cols)\n",
    "    \n",
    "\n",
    "\n",
    "# read in a directory that contains Triager csvs \n",
    "# split each Triager csv to 4 other csvs based on topic_name (argument, reasoning, etc)\n",
    "# and write it as csvs in the output directory\n",
    "def triager_split(input_directory, output_directory):\n",
    "    # input_directory - e.g. \"Triager data\"\n",
    "    # output_directory - e.g. \"Triager output\"\n",
    "    for file in os.listdir(input_directory):\n",
    "        triager_split_help(input_directory, file, output_directory)\n",
    "    print(\"Triager Tranformation Done! Ready to be imported to uAlpha!\")"
   ]
  },
  {
   "cell_type": "code",
   "execution_count": 10,
   "metadata": {},
   "outputs": [],
   "source": [
    "# resolve overlapping issues by merging overlapping rows!!!\n",
    "def resolve_overlapping(df):\n",
    "    # df - a dataframe with 5 cols {0: index, 1: user_id, 2:topic_name(as int), 3:blank, 4:start_pos, 5:end_pos}\n",
    "    # this function only works when start_pos are sorted for each user!!!\n",
    "    created = df[\"created\"].unique()\n",
    "    # iterate through all unique user \n",
    "    for time in created:\n",
    "        # start and end index of that user \n",
    "        start_i = df[df[\"created\"] == time].index.values[0]\n",
    "        end_i = df[df[\"created\"] == time].index.values[-1]\n",
    "        # iterate through the rows of that user \n",
    "        i = start_i\n",
    "        while i < end_i:\n",
    "            # if the start_pos of next row > end_pos of this row\n",
    "            # no overlap\n",
    "            # 5 - the col of end_pos\n",
    "            # the 10th column is end_pos_adjusted\n",
    "            end_pos = df.iat[i, 10]\n",
    "            # the 9th column is start_pos_adjusted\n",
    "            start_pos = df.iat[i+1, 9]\n",
    "            if start_pos > end_pos:\n",
    "                i += 1 \n",
    "            else:\n",
    "                # if the article_number is the same, doesn't really matter \n",
    "                # modify the end_pos of this row, merge \n",
    "                if df.iat[i, 10] < df.iat[i+1 , 10]:\n",
    "                    df.iat[i, 10] = df.iat[i+1, 10].copy()\n",
    "                # drop the next row \n",
    "                df.drop(i+1, inplace=True)\n",
    "                # reindex\n",
    "                df.reset_index(drop=True, inplace=True)\n",
    "                # decrement end_i \n",
    "                end_i -= 1\n",
    "    return df"
   ]
  },
  {
   "cell_type": "code",
   "execution_count": 11,
   "metadata": {},
   "outputs": [],
   "source": [
    "# add adjusted start_pos and adjusted end_pos for df \n",
    "def adjust(df):\n",
    "    # df - a dataframe with [\"article_number\", \"article_text_length\", \"start_pos\", \"end_pos\"] cols\n",
    "    article_number = df[\"article_number\"]\n",
    "    article_text_length = df[\"article_text_length\"]\n",
    "    start_pos = df[\"start_pos\"]\n",
    "    end_pos = df[\"end_pos\"]\n",
    "    # the cumulative sum of article_text_length\n",
    "    cumulative = []\n",
    "    start_pos_adjusted = []\n",
    "    end_pos_adjusted = []\n",
    "    pre_total = 0\n",
    "    total = article_text_length[0]\n",
    "    cur_num = article_number[0]\n",
    "    for i in np.arange(len(article_number)):\n",
    "        if article_number[i] == cur_num:\n",
    "            total = total + 0\n",
    "            cumulative.append(total)\n",
    "        else:\n",
    "            pre_total = total\n",
    "            cur_num = article_number[i]\n",
    "            total = total + article_text_length[i]\n",
    "            cumulative.append(total)\n",
    "        start_pos_adjusted.append(start_pos[i] + pre_total)\n",
    "        end_pos_adjusted.append(end_pos[i] + pre_total)\n",
    "    df[\"cumulative\"] = cumulative\n",
    "    df[\"start_pos_adjusted\"] = start_pos_adjusted\n",
    "    df[\"end_pos_adjusted\"] = end_pos_adjusted\n",
    "    return df "
   ]
  },
  {
   "cell_type": "code",
   "execution_count": 12,
   "metadata": {},
   "outputs": [],
   "source": [
    "# take in a Triager csv and split it to 4 different csvs \n",
    "# based on topic_name \n",
    "def triager_split_help(input_directory, fileName, output_directory):\n",
    "    # input_directory - e.g. \"Triager data\"\n",
    "    # fileName - e.g. \"Covid_Form1.0.adjudicated-2020-10-04T2314-Tags.csv\"\n",
    "    # output_directory - e.g. \"Triager output\"\n",
    "    name = os.path.join(input_directory, fileName)\n",
    "    df = pd.read_csv(name)\n",
    "    # different topic_names \n",
    "    topic_names = df[\"topic_name\"].unique()\n",
    "    for topic in topic_names: \n",
    "        # select all rows for that specific topic name \n",
    "        df_topic = df.loc[df[\"topic_name\"] == topic]\n",
    "        # select only these columns \n",
    "        filtered = slice_input(df_topic)\n",
    "        # slice contributor_uuid with the first 6 chars \n",
    "        filtered[\"contributor_uuid\"] = filtered[\"contributor_uuid\"].str[:6]\n",
    "        # map topic_name to integers\n",
    "        mapping(filtered, dic)\n",
    "        # add a blank column \n",
    "        filtered.insert(loc=3, column=\"blank\", value=\"\")\n",
    "        # sort\n",
    "        filtered = filtered.sort_values(by=[\"article_number\", \"contributor_uuid\", \"start_pos\"])\n",
    "        # re-index such that its index starts from 0 again\n",
    "        filtered.reset_index(drop=True, inplace=True)\n",
    "        # add modified columns\n",
    "        filtered = adjust(filtered)\n",
    "        # resolve overlapping issues \n",
    "        filtered = resolve_overlapping(filtered)\n",
    "        # filter and select only certain columns \n",
    "        output = slice_output(filtered)\n",
    "        # sort again by contributor\n",
    "        output = output.sort_values(by=[\"contributor_uuid\", \"start_pos_adjusted\"])\n",
    "        # add one column of u + str(row) and set it as index \n",
    "        index = 'u' + pd.Series(filtered.index).astype(str)\n",
    "        output.set_index(keys=index, inplace=True)\n",
    "        # the batch_name, e.g. \"Covid\"\n",
    "        batch_name = re.split(r'_', fileName)[0]\n",
    "        name = '{0}-Triager-{1}.csv'.format(batch_name, topic)\n",
    "        path = os.path.join(output_directory, name)\n",
    "        # write to csvs\n",
    "        output.to_csv(path, header=False)\n",
    "    return None"
   ]
  },
  {
   "cell_type": "code",
   "execution_count": 13,
   "metadata": {},
   "outputs": [
    {
     "name": "stdout",
     "output_type": "stream",
     "text": [
      "Triager Tranformation Done! Ready to be imported to uAlpha!\n"
     ]
    }
   ],
   "source": [
    "triager_split(\"Triager data\", \"Triager output\")"
   ]
  },
  {
   "cell_type": "markdown",
   "metadata": {},
   "source": [
    "**Example of resolving overlap**"
   ]
  },
  {
   "cell_type": "code",
   "execution_count": 14,
   "metadata": {},
   "outputs": [
    {
     "data": {
      "text/html": [
       "<div>\n",
       "<style scoped>\n",
       "    .dataframe tbody tr th:only-of-type {\n",
       "        vertical-align: middle;\n",
       "    }\n",
       "\n",
       "    .dataframe tbody tr th {\n",
       "        vertical-align: top;\n",
       "    }\n",
       "\n",
       "    .dataframe thead th {\n",
       "        text-align: right;\n",
       "    }\n",
       "</style>\n",
       "<table border=\"1\" class=\"dataframe\">\n",
       "  <thead>\n",
       "    <tr style=\"text-align: right;\">\n",
       "      <th></th>\n",
       "      <th>contributor_uuid</th>\n",
       "      <th>topic_name</th>\n",
       "      <th>start_pos</th>\n",
       "      <th>blank</th>\n",
       "      <th>end_pos</th>\n",
       "      <th>article_text_length</th>\n",
       "      <th>article_number</th>\n",
       "      <th>created</th>\n",
       "      <th>cumulative</th>\n",
       "      <th>start_pos_adjusted</th>\n",
       "      <th>end_pos_adjusted</th>\n",
       "    </tr>\n",
       "  </thead>\n",
       "  <tbody>\n",
       "    <tr>\n",
       "      <th>0</th>\n",
       "      <td>aac18e</td>\n",
       "      <td>2</td>\n",
       "      <td>136</td>\n",
       "      <td>NaN</td>\n",
       "      <td>287</td>\n",
       "      <td>1870</td>\n",
       "      <td>100054</td>\n",
       "      <td>2020-03-18 00:15:42.364545</td>\n",
       "      <td>5755</td>\n",
       "      <td>4021</td>\n",
       "      <td>4172</td>\n",
       "    </tr>\n",
       "    <tr>\n",
       "      <th>1</th>\n",
       "      <td>aac18e</td>\n",
       "      <td>2</td>\n",
       "      <td>563</td>\n",
       "      <td>NaN</td>\n",
       "      <td>776</td>\n",
       "      <td>1870</td>\n",
       "      <td>100054</td>\n",
       "      <td>2020-03-18 00:15:42.364545</td>\n",
       "      <td>5755</td>\n",
       "      <td>4448</td>\n",
       "      <td>4661</td>\n",
       "    </tr>\n",
       "    <tr>\n",
       "      <th>2</th>\n",
       "      <td>aac18e</td>\n",
       "      <td>2</td>\n",
       "      <td>651</td>\n",
       "      <td>NaN</td>\n",
       "      <td>667</td>\n",
       "      <td>1870</td>\n",
       "      <td>100054</td>\n",
       "      <td>2020-03-18 00:15:42.364545</td>\n",
       "      <td>5755</td>\n",
       "      <td>4536</td>\n",
       "      <td>4552</td>\n",
       "    </tr>\n",
       "  </tbody>\n",
       "</table>\n",
       "</div>"
      ],
      "text/plain": [
       "  contributor_uuid  topic_name  start_pos  blank  end_pos  \\\n",
       "0           aac18e           2        136    NaN      287   \n",
       "1           aac18e           2        563    NaN      776   \n",
       "2           aac18e           2        651    NaN      667   \n",
       "\n",
       "   article_text_length  article_number                     created  \\\n",
       "0                 1870          100054  2020-03-18 00:15:42.364545   \n",
       "1                 1870          100054  2020-03-18 00:15:42.364545   \n",
       "2                 1870          100054  2020-03-18 00:15:42.364545   \n",
       "\n",
       "   cumulative  start_pos_adjusted  end_pos_adjusted  \n",
       "0        5755                4021              4172  \n",
       "1        5755                4448              4661  \n",
       "2        5755                4536              4552  "
      ]
     },
     "execution_count": 14,
     "metadata": {},
     "output_type": "execute_result"
    }
   ],
   "source": [
    "a = pd.read_csv(\"example.csv\")\n",
    "a.drop(a.columns[0], axis=1, inplace=True)\n",
    "a"
   ]
  },
  {
   "cell_type": "code",
   "execution_count": 15,
   "metadata": {},
   "outputs": [
    {
     "data": {
      "text/html": [
       "<div>\n",
       "<style scoped>\n",
       "    .dataframe tbody tr th:only-of-type {\n",
       "        vertical-align: middle;\n",
       "    }\n",
       "\n",
       "    .dataframe tbody tr th {\n",
       "        vertical-align: top;\n",
       "    }\n",
       "\n",
       "    .dataframe thead th {\n",
       "        text-align: right;\n",
       "    }\n",
       "</style>\n",
       "<table border=\"1\" class=\"dataframe\">\n",
       "  <thead>\n",
       "    <tr style=\"text-align: right;\">\n",
       "      <th></th>\n",
       "      <th>contributor_uuid</th>\n",
       "      <th>topic_name</th>\n",
       "      <th>start_pos</th>\n",
       "      <th>blank</th>\n",
       "      <th>end_pos</th>\n",
       "      <th>article_text_length</th>\n",
       "      <th>article_number</th>\n",
       "      <th>created</th>\n",
       "      <th>cumulative</th>\n",
       "      <th>start_pos_adjusted</th>\n",
       "      <th>end_pos_adjusted</th>\n",
       "    </tr>\n",
       "  </thead>\n",
       "  <tbody>\n",
       "    <tr>\n",
       "      <th>0</th>\n",
       "      <td>aac18e</td>\n",
       "      <td>2</td>\n",
       "      <td>136</td>\n",
       "      <td>NaN</td>\n",
       "      <td>287</td>\n",
       "      <td>1870</td>\n",
       "      <td>100054</td>\n",
       "      <td>2020-03-18 00:15:42.364545</td>\n",
       "      <td>5755</td>\n",
       "      <td>4021</td>\n",
       "      <td>4172</td>\n",
       "    </tr>\n",
       "    <tr>\n",
       "      <th>1</th>\n",
       "      <td>aac18e</td>\n",
       "      <td>2</td>\n",
       "      <td>563</td>\n",
       "      <td>NaN</td>\n",
       "      <td>776</td>\n",
       "      <td>1870</td>\n",
       "      <td>100054</td>\n",
       "      <td>2020-03-18 00:15:42.364545</td>\n",
       "      <td>5755</td>\n",
       "      <td>4448</td>\n",
       "      <td>4661</td>\n",
       "    </tr>\n",
       "  </tbody>\n",
       "</table>\n",
       "</div>"
      ],
      "text/plain": [
       "  contributor_uuid  topic_name  start_pos  blank  end_pos  \\\n",
       "0           aac18e           2        136    NaN      287   \n",
       "1           aac18e           2        563    NaN      776   \n",
       "\n",
       "   article_text_length  article_number                     created  \\\n",
       "0                 1870          100054  2020-03-18 00:15:42.364545   \n",
       "1                 1870          100054  2020-03-18 00:15:42.364545   \n",
       "\n",
       "   cumulative  start_pos_adjusted  end_pos_adjusted  \n",
       "0        5755                4021              4172  \n",
       "1        5755                4448              4661  "
      ]
     },
     "execution_count": 15,
     "metadata": {},
     "output_type": "execute_result"
    }
   ],
   "source": [
    "a = resolve_overlapping(a)\n",
    "a"
   ]
  },
  {
   "cell_type": "code",
   "execution_count": 16,
   "metadata": {},
   "outputs": [],
   "source": [
    "# debugging function - find potential overlapping issue \n",
    "def detect_overlapping(input_directory, fileName):\n",
    "    # input directory - e.g. \"Triager output\"\n",
    "    # fileName - e.g. \"Covid-Triager-Arguments.csv\"\n",
    "    name = os.path.join(input_directory, fileName)\n",
    "    df = pd.read_csv(name, header=None)\n",
    "    # all the unique user \n",
    "    users = df.iloc[:, 1].unique()\n",
    "    # iterate through all unique user \n",
    "    for user in users:\n",
    "        # first only select the rows of that user \n",
    "        # use copy to deal with the wanring\n",
    "        piece = df.loc[df[1] == user].copy()\n",
    "        # sort the 4th column\n",
    "        piece.sort_values(by=4, inplace=True)\n",
    "        # find or not\n",
    "        found = False \n",
    "        start_pos = np.array(piece[4])\n",
    "        end_pos = np.array(piece[5])\n",
    "        for i in np.arange(1, len(start_pos)):\n",
    "            if start_pos[i] > end_pos[i-1]:\n",
    "                continue\n",
    "            else:\n",
    "                found = True\n",
    "                print('user {0}, start_pos {1}, end_pos {2} begin overlapping!'.format(user, start_pos[i], end_pos[i]))\n",
    "                break \n",
    "    return None "
   ]
  },
  {
   "cell_type": "code",
   "execution_count": 17,
   "metadata": {},
   "outputs": [],
   "source": [
    "detect_overlapping(\"Triager output\", \"Covid-Triager-Arguments.csv\")"
   ]
  },
  {
   "cell_type": "markdown",
   "metadata": {},
   "source": [
    "**Example of removing a row**"
   ]
  },
  {
   "cell_type": "code",
   "execution_count": 18,
   "metadata": {},
   "outputs": [
    {
     "data": {
      "text/html": [
       "<div>\n",
       "<style scoped>\n",
       "    .dataframe tbody tr th:only-of-type {\n",
       "        vertical-align: middle;\n",
       "    }\n",
       "\n",
       "    .dataframe tbody tr th {\n",
       "        vertical-align: top;\n",
       "    }\n",
       "\n",
       "    .dataframe thead th {\n",
       "        text-align: right;\n",
       "    }\n",
       "</style>\n",
       "<table border=\"1\" class=\"dataframe\">\n",
       "  <thead>\n",
       "    <tr style=\"text-align: right;\">\n",
       "      <th></th>\n",
       "      <th>first</th>\n",
       "    </tr>\n",
       "  </thead>\n",
       "  <tbody>\n",
       "    <tr>\n",
       "      <th>23</th>\n",
       "      <td>1</td>\n",
       "    </tr>\n",
       "    <tr>\n",
       "      <th>24</th>\n",
       "      <td>2</td>\n",
       "    </tr>\n",
       "    <tr>\n",
       "      <th>25</th>\n",
       "      <td>3</td>\n",
       "    </tr>\n",
       "    <tr>\n",
       "      <th>26</th>\n",
       "      <td>4</td>\n",
       "    </tr>\n",
       "    <tr>\n",
       "      <th>27</th>\n",
       "      <td>5</td>\n",
       "    </tr>\n",
       "  </tbody>\n",
       "</table>\n",
       "</div>"
      ],
      "text/plain": [
       "    first\n",
       "23      1\n",
       "24      2\n",
       "25      3\n",
       "26      4\n",
       "27      5"
      ]
     },
     "execution_count": 18,
     "metadata": {},
     "output_type": "execute_result"
    }
   ],
   "source": [
    "a = pd.DataFrame(index=np.array([23, 24, 25, 26, 27]), data={\"first\": [1, 2, 3, 4, 5]})\n",
    "a"
   ]
  },
  {
   "cell_type": "code",
   "execution_count": 19,
   "metadata": {},
   "outputs": [
    {
     "data": {
      "text/html": [
       "<div>\n",
       "<style scoped>\n",
       "    .dataframe tbody tr th:only-of-type {\n",
       "        vertical-align: middle;\n",
       "    }\n",
       "\n",
       "    .dataframe tbody tr th {\n",
       "        vertical-align: top;\n",
       "    }\n",
       "\n",
       "    .dataframe thead th {\n",
       "        text-align: right;\n",
       "    }\n",
       "</style>\n",
       "<table border=\"1\" class=\"dataframe\">\n",
       "  <thead>\n",
       "    <tr style=\"text-align: right;\">\n",
       "      <th></th>\n",
       "      <th>first</th>\n",
       "    </tr>\n",
       "  </thead>\n",
       "  <tbody>\n",
       "    <tr>\n",
       "      <th>23</th>\n",
       "      <td>1</td>\n",
       "    </tr>\n",
       "    <tr>\n",
       "      <th>24</th>\n",
       "      <td>2</td>\n",
       "    </tr>\n",
       "    <tr>\n",
       "      <th>26</th>\n",
       "      <td>4</td>\n",
       "    </tr>\n",
       "    <tr>\n",
       "      <th>27</th>\n",
       "      <td>5</td>\n",
       "    </tr>\n",
       "  </tbody>\n",
       "</table>\n",
       "</div>"
      ],
      "text/plain": [
       "    first\n",
       "23      1\n",
       "24      2\n",
       "26      4\n",
       "27      5"
      ]
     },
     "execution_count": 19,
     "metadata": {},
     "output_type": "execute_result"
    }
   ],
   "source": [
    "a.drop(25, inplace=True)\n",
    "a"
   ]
  }
 ],
 "metadata": {
  "kernelspec": {
   "display_name": "Python 3",
   "language": "python",
   "name": "python3"
  },
  "language_info": {
   "codemirror_mode": {
    "name": "ipython",
    "version": 3
   },
   "file_extension": ".py",
   "mimetype": "text/x-python",
   "name": "python",
   "nbconvert_exporter": "python",
   "pygments_lexer": "ipython3",
   "version": "3.7.3"
  }
 },
 "nbformat": 4,
 "nbformat_minor": 2
}
