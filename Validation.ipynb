{
 "cells": [
  {
   "cell_type": "code",
   "execution_count": 25,
   "metadata": {},
   "outputs": [],
   "source": [
    "# import necessary modules \n",
    "# please run this everytime you open it\n",
    "import pandas as pd \n",
    "import numpy as np \n",
    "import matplotlib as plt \n",
    "import seaborn as sns\n",
    "import re\n",
    "import os"
   ]
  },
  {
   "cell_type": "markdown",
   "metadata": {},
   "source": [
    "## Something to keep in mind!"
   ]
  },
  {
   "cell_type": "markdown",
   "metadata": {},
   "source": [
    "**In Specialist csvs, one \"quiz_task_uuid\" can have multiple contributors. To uniquely identify each input, use \"quiz_taskrun_uuid**"
   ]
  },
  {
   "cell_type": "markdown",
   "metadata": {},
   "source": [
    "## Helper functions"
   ]
  },
  {
   "cell_type": "code",
   "execution_count": 6,
   "metadata": {},
   "outputs": [],
   "source": [
    "# mapping for Triager tasks\n",
    "triager_dic = {\"Quoted Sources\":1,\n",
    "               \"Arguments\":2,\n",
    "               \"Assertions\":3, \n",
    "               \"Needs Fact-Check\":4, \n",
    "               \"Language\":5, \n",
    "               \"Reasoning\":6, \n",
    "               \"Probability\":7, \n",
    "               \"Evidence\":8}"
   ]
  },
  {
   "cell_type": "code",
   "execution_count": 16,
   "metadata": {},
   "outputs": [],
   "source": [
    "# dic for Specialists tasks\n",
    "specialist_dic = {\"Argument relevance\": {\"mc\": {\"categorical\":[1], \"ordinal\":[2, 3]}, \"tx\":[4]},\n",
    "                  \"Evidence Specialist\": {\"mc\":{\"categorical\":[6, 9], \"ordinal\":[4, 5, 8, 10, 11, 12, 14, 15]}, \"cl\":[1, 2], \"tx\":[3, 7, 16]},\n",
    "                  \"Holistic Evaluation of Article\": {\"mc\":{\"categorical\":[1, 5, 14], \"ordinal\":[7, 8, 11, 12, 13, 17, 18]}, \"cl\":[3, 6, 9, 10, 15], \"tx\":[2, 4, 16, 19]}, \n",
    "                  \"Language Specialist V4\": {\"mc\":{\"categorical\":[], \"ordinal\":[2, 3, 4, 5, 8, 9, 10, 11, 12, 13, 14, 15]}, \"cl\":[1, 6], \"tx\":[7, 16]},\n",
    "                  \"Probability Specialist\": {\"mc\": {\"categorical\":[6], \"ordinal\":[1, 2, 4, 5, 7, 8, 9, 10, 11, 14, 15]}, \"cl\":[12], \"tx\":[16]},\n",
    "                  \"Reasoning Specialist\": {},\n",
    "                  \"Quote Source Relevance\": 7}"
   ]
  },
  {
   "cell_type": "code",
   "execution_count": 15,
   "metadata": {},
   "outputs": [],
   "source": [
    "# check if a certain column contains any duplicate values \n",
    "# return true if all values in the column are unique\n",
    "def check_duplicate(df, col):\n",
    "    # df - any dataframe \n",
    "    # col - column label \n",
    "    return df[col].is_unique"
   ]
  },
  {
   "cell_type": "code",
   "execution_count": 23,
   "metadata": {},
   "outputs": [],
   "source": [
    "# count how many Nan rows are there in a df \n",
    "# Nan rows are rows that have all missing values\n",
    "def count_nan_rows(df):\n",
    "    return df.shape[0] - df.dropna(axis=0, how='all').shape[0]"
   ]
  },
  {
   "cell_type": "code",
   "execution_count": 22,
   "metadata": {},
   "outputs": [],
   "source": [
    "# count how many nan cols are there in a df\n",
    "# nan cols are cols where all values are missing \n",
    "def count_nan_cols(df):\n",
    "    return df.shape[1] - df.dropna(axis=1, how=\"all\").shape[1]"
   ]
  },
  {
   "cell_type": "code",
   "execution_count": 19,
   "metadata": {},
   "outputs": [],
   "source": [
    "# only select that value, useful for constructing pivot_table\n",
    "def select(x):\n",
    "    return x"
   ]
  },
  {
   "cell_type": "code",
   "execution_count": 12,
   "metadata": {},
   "outputs": [],
   "source": [
    "# return the unique values sorted in a df's column\n",
    "def unique(df, x):\n",
    "    # df - dataframe \n",
    "    # x - the label of the column \n",
    "    a = sorted(df[x].unique())\n",
    "    return a"
   ]
  },
  {
   "cell_type": "code",
   "execution_count": 28,
   "metadata": {},
   "outputs": [],
   "source": [
    "# convert all strings in the array to int \n",
    "# e.g. \"T1.Q1.A5\" -> 5 \n",
    "def to_int(array):\n",
    "    # array - e.g. 2-d array where some entries are \"T1.Q1.A3\"\n",
    "    for i in range(array.shape[0]):\n",
    "        for j in range(array.shape[1]):\n",
    "            cur = array[i][j]\n",
    "            # if the current value is a string\n",
    "            if not pd.isnull(cur):\n",
    "                array[i][j] = int(array[i][j][-1])\n",
    "    df = pd.DataFrame(array)\n",
    "    display(df.head())\n",
    "    return array"
   ]
  },
  {
   "cell_type": "code",
   "execution_count": 23,
   "metadata": {},
   "outputs": [],
   "source": [
    "# construct a reliability matrix from Specialist csv \n",
    "def to_reliability(input_directory, fileName, question_label):\n",
    "    # input_directory - e.g. \"Specialists data\"\n",
    "    # fileName - e.g. \"Covid_SourceRelevancev1-2020-10-04T1838-DataHunt.csv\"\n",
    "    # question_label - e.g. \"Q2\"\n",
    "    name = os.path.join(input_directory, fileName)\n",
    "    # read in csv \n",
    "    df = pd.read_csv(name)\n",
    "    # select only that question_label \n",
    "    df = df[df[\"question_label\"] == question_label].copy()\n",
    "    # slice \n",
    "    cols = [\"quiz_taskrun_uuid\", \"contributor_uuid\", \"question_label\", \"answer_label\"]\n",
    "    df = df.reindex(columns=cols)\n",
    "    # construct a pivot_table \n",
    "    df = pd.pivot_table(df, values='answer_label', index='contributor_uuid', columns='quiz_taskrun_uuid', aggfunc=select)\n",
    "    # print # of missing rows and cols \n",
    "    print(\"There are {0} rows where all values are missing\".format(count_nan_rows(df)))\n",
    "    print(\"There are {0} cols where all values are missing\".format(count_nan_cols(df)))\n",
    "    # to numpy array\n",
    "    array = df.to_numpy()\n",
    "    # convert string to int \n",
    "    array = to_int(array)\n",
    "    # return the array \n",
    "    return array"
   ]
  },
  {
   "cell_type": "code",
   "execution_count": 10,
   "metadata": {},
   "outputs": [],
   "source": [
    "# extract topic name (Argument/Holistic...) from df \n",
    "def get_topic(df):\n",
    "    # df - e.g. df after reading in \"Covid_Evidencev1-2020-10-04T1836-DataHunt.csv\"\n",
    "    # return the first one coz that's fast than unique()\n",
    "    return df[\"topic_name\"][0]"
   ]
  },
  {
   "cell_type": "code",
   "execution_count": 17,
   "metadata": {},
   "outputs": [],
   "source": [
    "# compute alpha values \n",
    "def compute_alpha(input_directory, fileName, question_label, measurement, decimal_places):\n",
    "    # input_directory - e.g. \"Specialist data\"\n",
    "    # fileName - e.g. \"Covid_ArgumentRelevancev1.2-2020-10-04T1802-DataHunt.csv\"\n",
    "    # question _label - e.g. \"T1.Q2\"\n",
    "    # measurement - \"nominal\", \"ordinal\", \"interval\"\n",
    "    # decimal_plaes - number of decimal places to be rounded \n",
    "    array = to_reliability(input_directory, fileName, question_label)\n",
    "    return np.round(alpha(reliability_data=array, level_of_measurement=measurement), decimal_places)"
   ]
  },
  {
   "cell_type": "markdown",
   "metadata": {},
   "source": [
    "## Specialist Tasks"
   ]
  },
  {
   "cell_type": "code",
   "execution_count": 33,
   "metadata": {},
   "outputs": [],
   "source": [
    "# import krippendorff.py\n",
    "%run krippendorff.py"
   ]
  },
  {
   "cell_type": "code",
   "execution_count": null,
   "metadata": {},
   "outputs": [],
   "source": []
  },
  {
   "cell_type": "markdown",
   "metadata": {},
   "source": [
    "## Triager to uAlpha"
   ]
  },
  {
   "cell_type": "code",
   "execution_count": 1,
   "metadata": {},
   "outputs": [],
   "source": [
    "# mapping topic_name to integers \n",
    "def mapping(df, dic):\n",
    "    # df - dataframe to be mapped \n",
    "    # dic - dictionary of mapping \n",
    "    df[\"topic_name\"] = df[\"topic_name\"].map(dic)\n",
    "    return df \n",
    "\n",
    "\n",
    "# filter df and select only certain cols as input\n",
    "def slice_input(df):\n",
    "    cols = [\"contributor_uuid\", \"topic_name\", \"start_pos\",\n",
    "            \"end_pos\", \"article_text_length\", \"article_number\", \"created\"]\n",
    "    return df.reindex(columns=cols)\n",
    "\n",
    "\n",
    "# filter df and select only certain cols as output\n",
    "def slice_output(df):\n",
    "    cols = [\"contributor_uuid\", \"topic_name\", \"blank\",  \n",
    "            \"start_pos_adjusted\", \"end_pos_adjusted\"]\n",
    "    return df.reindex(columns=cols)\n",
    "    \n",
    "\n",
    "\n",
    "# read in a directory that contains Triager csvs \n",
    "# split each Triager csv to 4 other csvs based on topic_name (argument, reasoning, etc)\n",
    "# and write it as csvs in the output directory\n",
    "def triager_split(input_directory, output_directory):\n",
    "    # input_directory - e.g. \"Triager data\"\n",
    "    # output_directory - e.g. \"Triager output\"\n",
    "    for file in os.listdir(input_directory):\n",
    "        triager_split_help(input_directory, file, output_directory)\n",
    "    print(\"Triager Tranformation Done! Ready to be imported to uAlpha!\")"
   ]
  },
  {
   "cell_type": "code",
   "execution_count": 10,
   "metadata": {},
   "outputs": [],
   "source": [
    "# resolve overlapping issues by merging overlapping rows!!!\n",
    "def resolve_overlapping(df):\n",
    "    # df - a dataframe with 5 cols {0: index, 1: user_id, 2:topic_name(as int), 3:blank, 4:start_pos, 5:end_pos}\n",
    "    # this function only works when start_pos are sorted for each user!!!\n",
    "    created = df[\"created\"].unique()\n",
    "    # iterate through all unique user \n",
    "    for time in created:\n",
    "        # start and end index of that user \n",
    "        start_i = df[df[\"created\"] == time].index.values[0]\n",
    "        end_i = df[df[\"created\"] == time].index.values[-1]\n",
    "        # iterate through the rows of that user \n",
    "        i = start_i\n",
    "        while i < end_i:\n",
    "            # if the start_pos of next row > end_pos of this row\n",
    "            # no overlap\n",
    "            # 5 - the col of end_pos\n",
    "            # the 10th column is end_pos_adjusted\n",
    "            end_pos = df.iat[i, 10]\n",
    "            # the 9th column is start_pos_adjusted\n",
    "            start_pos = df.iat[i+1, 9]\n",
    "            if start_pos > end_pos:\n",
    "                i += 1 \n",
    "            else:\n",
    "                # if the article_number is the same, doesn't really matter \n",
    "                # modify the end_pos of this row, merge \n",
    "                if df.iat[i, 10] < df.iat[i+1 , 10]:\n",
    "                    df.iat[i, 10] = df.iat[i+1, 10].copy()\n",
    "                # drop the next row \n",
    "                df.drop(i+1, inplace=True)\n",
    "                # reindex\n",
    "                df.reset_index(drop=True, inplace=True)\n",
    "                # decrement end_i \n",
    "                end_i -= 1\n",
    "    return df"
   ]
  },
  {
   "cell_type": "code",
   "execution_count": 11,
   "metadata": {},
   "outputs": [],
   "source": [
    "# add adjusted start_pos and adjusted end_pos for df \n",
    "def adjust(df):\n",
    "    # df - a dataframe with [\"article_number\", \"article_text_length\", \"start_pos\", \"end_pos\"] cols\n",
    "    article_number = df[\"article_number\"]\n",
    "    article_text_length = df[\"article_text_length\"]\n",
    "    start_pos = df[\"start_pos\"]\n",
    "    end_pos = df[\"end_pos\"]\n",
    "    # the cumulative sum of article_text_length\n",
    "    cumulative = []\n",
    "    start_pos_adjusted = []\n",
    "    end_pos_adjusted = []\n",
    "    pre_total = 0\n",
    "    total = article_text_length[0]\n",
    "    cur_num = article_number[0]\n",
    "    for i in np.arange(len(article_number)):\n",
    "        if article_number[i] == cur_num:\n",
    "            total = total + 0\n",
    "            cumulative.append(total)\n",
    "        else:\n",
    "            pre_total = total\n",
    "            cur_num = article_number[i]\n",
    "            total = total + article_text_length[i]\n",
    "            cumulative.append(total)\n",
    "        start_pos_adjusted.append(start_pos[i] + pre_total)\n",
    "        end_pos_adjusted.append(end_pos[i] + pre_total)\n",
    "    df[\"cumulative\"] = cumulative\n",
    "    df[\"start_pos_adjusted\"] = start_pos_adjusted\n",
    "    df[\"end_pos_adjusted\"] = end_pos_adjusted\n",
    "    return df "
   ]
  },
  {
   "cell_type": "code",
   "execution_count": 12,
   "metadata": {},
   "outputs": [],
   "source": [
    "# take in a Triager csv and split it to 4 different csvs \n",
    "# based on topic_name \n",
    "def triager_split_help(input_directory, fileName, output_directory):\n",
    "    # input_directory - e.g. \"Triager data\"\n",
    "    # fileName - e.g. \"Covid_Form1.0.adjudicated-2020-10-04T2314-Tags.csv\"\n",
    "    # output_directory - e.g. \"Triager output\"\n",
    "    name = os.path.join(input_directory, fileName)\n",
    "    df = pd.read_csv(name)\n",
    "    # different topic_names \n",
    "    topic_names = df[\"topic_name\"].unique()\n",
    "    for topic in topic_names: \n",
    "        # select all rows for that specific topic name \n",
    "        df_topic = df.loc[df[\"topic_name\"] == topic]\n",
    "        # select only these columns \n",
    "        filtered = slice_input(df_topic)\n",
    "        # slice contributor_uuid with the first 6 chars \n",
    "        filtered[\"contributor_uuid\"] = filtered[\"contributor_uuid\"].str[:6]\n",
    "        # map topic_name to integers\n",
    "        mapping(filtered, triager_dic)\n",
    "        # add a blank column \n",
    "        filtered.insert(loc=3, column=\"blank\", value=\"\")\n",
    "        # sort\n",
    "        filtered = filtered.sort_values(by=[\"article_number\", \"contributor_uuid\", \"start_pos\"])\n",
    "        # re-index such that its index starts from 0 again\n",
    "        filtered.reset_index(drop=True, inplace=True)\n",
    "        # add modified columns\n",
    "        filtered = adjust(filtered)\n",
    "        # resolve overlapping issues \n",
    "        filtered = resolve_overlapping(filtered)\n",
    "        # filter and select only certain columns \n",
    "        output = slice_output(filtered)\n",
    "        # sort again by contributor\n",
    "        output = output.sort_values(by=[\"contributor_uuid\", \"start_pos_adjusted\"])\n",
    "        # add one column of u + str(row) and set it as index \n",
    "        index = 'u' + pd.Series(filtered.index).astype(str)\n",
    "        output.set_index(keys=index, inplace=True)\n",
    "        # the batch_name, e.g. \"Covid\"\n",
    "        batch_name = re.split(r'_', fileName)[0]\n",
    "        name = '{0}-Triager-{1}.csv'.format(batch_name, topic)\n",
    "        path = os.path.join(output_directory, name)\n",
    "        # write to csvs\n",
    "        output.to_csv(path, header=False)\n",
    "    return None"
   ]
  },
  {
   "cell_type": "code",
   "execution_count": 16,
   "metadata": {},
   "outputs": [],
   "source": [
    "# debugging function - find potential overlapping issue \n",
    "def detect_overlapping(input_directory, fileName):\n",
    "    # input directory - e.g. \"Triager output\"\n",
    "    # fileName - e.g. \"Covid-Triager-Arguments.csv\"\n",
    "    name = os.path.join(input_directory, fileName)\n",
    "    df = pd.read_csv(name, header=None)\n",
    "    # all the unique user \n",
    "    users = df.iloc[:, 1].unique()\n",
    "    # iterate through all unique user \n",
    "    for user in users:\n",
    "        # first only select the rows of that user \n",
    "        # use copy to deal with the wanring\n",
    "        piece = df.loc[df[1] == user].copy()\n",
    "        # sort the 4th column\n",
    "        piece.sort_values(by=4, inplace=True)\n",
    "        # find or not\n",
    "        found = False \n",
    "        start_pos = np.array(piece[4])\n",
    "        end_pos = np.array(piece[5])\n",
    "        for i in np.arange(1, len(start_pos)):\n",
    "            if start_pos[i] > end_pos[i-1]:\n",
    "                continue\n",
    "            else:\n",
    "                found = True\n",
    "                print('user {0}, start_pos {1}, end_pos {2} begin overlapping!'.format(user, start_pos[i], end_pos[i]))\n",
    "                break \n",
    "    return None "
   ]
  }
 ],
 "metadata": {
  "kernelspec": {
   "display_name": "Python 3",
   "language": "python",
   "name": "python3"
  },
  "language_info": {
   "codemirror_mode": {
    "name": "ipython",
    "version": 3
   },
   "file_extension": ".py",
   "mimetype": "text/x-python",
   "name": "python",
   "nbconvert_exporter": "python",
   "pygments_lexer": "ipython3",
   "version": "3.7.3"
  }
 },
 "nbformat": 4,
 "nbformat_minor": 2
}
